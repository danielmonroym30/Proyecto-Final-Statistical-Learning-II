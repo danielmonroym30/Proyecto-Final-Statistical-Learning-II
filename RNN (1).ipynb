{
  "nbformat": 4,
  "nbformat_minor": 0,
  "metadata": {
    "colab": {
      "name": "RNN.ipynb",
      "provenance": [],
      "collapsed_sections": []
    },
    "kernelspec": {
      "name": "python3",
      "display_name": "Python 3"
    }
  },
  "cells": [
    {
      "cell_type": "markdown",
      "metadata": {
        "id": "Zm0PBmnyMOL_",
        "colab_type": "text"
      },
      "source": [
        "**Red Neuronal Recurrente** - Daniel Conrado Monroy Madrid 16012674"
      ]
    },
    {
      "cell_type": "code",
      "metadata": {
        "id": "HllpcjFHH5_0",
        "colab_type": "code",
        "outputId": "1e9368cc-6180-4995-c73c-6f46cc55c426",
        "colab": {
          "base_uri": "https://localhost:8080/",
          "height": 122
        }
      },
      "source": [
        "from google.colab import drive\n",
        "drive.mount('/content/drive/',force_remount=True)"
      ],
      "execution_count": 0,
      "outputs": [
        {
          "output_type": "stream",
          "text": [
            "Go to this URL in a browser: https://accounts.google.com/o/oauth2/auth?client_id=947318989803-6bn6qk8qdgf4n4g3pfee6491hc0brc4i.apps.googleusercontent.com&redirect_uri=urn%3Aietf%3Awg%3Aoauth%3A2.0%3Aoob&scope=email%20https%3A%2F%2Fwww.googleapis.com%2Fauth%2Fdocs.test%20https%3A%2F%2Fwww.googleapis.com%2Fauth%2Fdrive%20https%3A%2F%2Fwww.googleapis.com%2Fauth%2Fdrive.photos.readonly%20https%3A%2F%2Fwww.googleapis.com%2Fauth%2Fpeopleapi.readonly&response_type=code\n",
            "\n",
            "Enter your authorization code:\n",
            "··········\n",
            "Mounted at /content/drive/\n"
          ],
          "name": "stdout"
        }
      ]
    },
    {
      "cell_type": "code",
      "metadata": {
        "id": "Dlz-5MPTIBbj",
        "colab_type": "code",
        "outputId": "3728b7cc-b02c-4704-b6b8-65f523f8d6c5",
        "colab": {
          "base_uri": "https://localhost:8080/",
          "height": 34
        }
      },
      "source": [
        "from keras.models import Sequential\n",
        "from keras.layers import Dense\n",
        "from keras.layers import LSTM\n",
        "from sklearn.preprocessing import MinMaxScaler\n",
        "from sklearn.metrics import mean_squared_error"
      ],
      "execution_count": 0,
      "outputs": [
        {
          "output_type": "stream",
          "text": [
            "Using TensorFlow backend.\n"
          ],
          "name": "stderr"
        }
      ]
    },
    {
      "cell_type": "code",
      "metadata": {
        "id": "DtGUBRwQIXKx",
        "colab_type": "code",
        "colab": {}
      },
      "source": [
        "import pandas as pd\n",
        "import numpy as np\n",
        "import matplotlib.pyplot as plt"
      ],
      "execution_count": 0,
      "outputs": []
    },
    {
      "cell_type": "code",
      "metadata": {
        "id": "-IMczOQlIeV_",
        "colab_type": "code",
        "colab": {}
      },
      "source": [
        "def import_data(dataset): #dataset es un string.csv \n",
        "  path = \"/content/drive/My Drive/datasets/\"\n",
        "  file_name = dataset\n",
        "  dataset = pd.read_csv(path+file_name,encoding = \"utf-8\",engine='python')\n",
        "  return dataset"
      ],
      "execution_count": 0,
      "outputs": []
    },
    {
      "cell_type": "code",
      "metadata": {
        "id": "GMANC9liJINL",
        "colab_type": "code",
        "outputId": "73f63884-34c3-4f32-fe2b-6bafe4dd8936",
        "colab": {
          "base_uri": "https://localhost:8080/",
          "height": 204
        }
      },
      "source": [
        "data = import_data('serie.csv')\n",
        "data.head()"
      ],
      "execution_count": 0,
      "outputs": [
        {
          "output_type": "execute_result",
          "data": {
            "text/html": [
              "<div>\n",
              "<style scoped>\n",
              "    .dataframe tbody tr th:only-of-type {\n",
              "        vertical-align: middle;\n",
              "    }\n",
              "\n",
              "    .dataframe tbody tr th {\n",
              "        vertical-align: top;\n",
              "    }\n",
              "\n",
              "    .dataframe thead th {\n",
              "        text-align: right;\n",
              "    }\n",
              "</style>\n",
              "<table border=\"1\" class=\"dataframe\">\n",
              "  <thead>\n",
              "    <tr style=\"text-align: right;\">\n",
              "      <th></th>\n",
              "      <th>Fecha</th>\n",
              "      <th>Compra</th>\n",
              "      <th>Venta</th>\n",
              "      <th>TCR 1/</th>\n",
              "    </tr>\n",
              "  </thead>\n",
              "  <tbody>\n",
              "    <tr>\n",
              "      <th>0</th>\n",
              "      <td>02/12/2006</td>\n",
              "      <td>7.63900</td>\n",
              "      <td>7.63900</td>\n",
              "      <td>NaN</td>\n",
              "    </tr>\n",
              "    <tr>\n",
              "      <th>1</th>\n",
              "      <td>03/12/2006</td>\n",
              "      <td>7.63900</td>\n",
              "      <td>7.63900</td>\n",
              "      <td>NaN</td>\n",
              "    </tr>\n",
              "    <tr>\n",
              "      <th>2</th>\n",
              "      <td>04/12/2006</td>\n",
              "      <td>7.63900</td>\n",
              "      <td>7.63900</td>\n",
              "      <td>NaN</td>\n",
              "    </tr>\n",
              "    <tr>\n",
              "      <th>3</th>\n",
              "      <td>05/12/2006</td>\n",
              "      <td>7.63729</td>\n",
              "      <td>7.63729</td>\n",
              "      <td>NaN</td>\n",
              "    </tr>\n",
              "    <tr>\n",
              "      <th>4</th>\n",
              "      <td>06/12/2006</td>\n",
              "      <td>7.64211</td>\n",
              "      <td>7.64211</td>\n",
              "      <td>NaN</td>\n",
              "    </tr>\n",
              "  </tbody>\n",
              "</table>\n",
              "</div>"
            ],
            "text/plain": [
              "        Fecha   Compra    Venta  TCR 1/\n",
              "0  02/12/2006  7.63900  7.63900     NaN\n",
              "1  03/12/2006  7.63900  7.63900     NaN\n",
              "2  04/12/2006  7.63900  7.63900     NaN\n",
              "3  05/12/2006  7.63729  7.63729     NaN\n",
              "4  06/12/2006  7.64211  7.64211     NaN"
            ]
          },
          "metadata": {
            "tags": []
          },
          "execution_count": 39
        }
      ]
    },
    {
      "cell_type": "code",
      "metadata": {
        "id": "gdj2GQ6WJOUl",
        "colab_type": "code",
        "outputId": "d15dd759-72d1-4865-e79c-5c03c4d9bdbb",
        "colab": {
          "base_uri": "https://localhost:8080/",
          "height": 170
        }
      },
      "source": [
        "data.info() # en las últimas se encuentra texto como \"Fuente: Banco de Guatemala\" en la columna de fecha, por ello los nulls en las columnas de compra y venta."
      ],
      "execution_count": 0,
      "outputs": [
        {
          "output_type": "stream",
          "text": [
            "<class 'pandas.core.frame.DataFrame'>\n",
            "RangeIndex: 4644 entries, 0 to 4643\n",
            "Data columns (total 4 columns):\n",
            "Fecha     4644 non-null object\n",
            "Compra    4640 non-null float64\n",
            "Venta     4640 non-null float64\n",
            "TCR 1/    0 non-null float64\n",
            "dtypes: float64(3), object(1)\n",
            "memory usage: 145.2+ KB\n"
          ],
          "name": "stdout"
        }
      ]
    },
    {
      "cell_type": "code",
      "metadata": {
        "id": "RKrkg05nV6IN",
        "colab_type": "code",
        "outputId": "b25835bb-a644-4661-f674-ac372ddc85cf",
        "colab": {
          "base_uri": "https://localhost:8080/",
          "height": 204
        }
      },
      "source": [
        "# En este caso, el valor de compra es igual al de venta, por lo que el nuevo dataset quedaría de la siguiente forma: \n",
        "# De igual manera, se eliminan las filas donde hay texto que el Banco Central pone al final de los datos. \n",
        "dataset = data.iloc[0:4640,0:2]\n",
        "dataset.head()"
      ],
      "execution_count": 0,
      "outputs": [
        {
          "output_type": "execute_result",
          "data": {
            "text/html": [
              "<div>\n",
              "<style scoped>\n",
              "    .dataframe tbody tr th:only-of-type {\n",
              "        vertical-align: middle;\n",
              "    }\n",
              "\n",
              "    .dataframe tbody tr th {\n",
              "        vertical-align: top;\n",
              "    }\n",
              "\n",
              "    .dataframe thead th {\n",
              "        text-align: right;\n",
              "    }\n",
              "</style>\n",
              "<table border=\"1\" class=\"dataframe\">\n",
              "  <thead>\n",
              "    <tr style=\"text-align: right;\">\n",
              "      <th></th>\n",
              "      <th>Fecha</th>\n",
              "      <th>Compra</th>\n",
              "    </tr>\n",
              "  </thead>\n",
              "  <tbody>\n",
              "    <tr>\n",
              "      <th>0</th>\n",
              "      <td>02/12/2006</td>\n",
              "      <td>7.63900</td>\n",
              "    </tr>\n",
              "    <tr>\n",
              "      <th>1</th>\n",
              "      <td>03/12/2006</td>\n",
              "      <td>7.63900</td>\n",
              "    </tr>\n",
              "    <tr>\n",
              "      <th>2</th>\n",
              "      <td>04/12/2006</td>\n",
              "      <td>7.63900</td>\n",
              "    </tr>\n",
              "    <tr>\n",
              "      <th>3</th>\n",
              "      <td>05/12/2006</td>\n",
              "      <td>7.63729</td>\n",
              "    </tr>\n",
              "    <tr>\n",
              "      <th>4</th>\n",
              "      <td>06/12/2006</td>\n",
              "      <td>7.64211</td>\n",
              "    </tr>\n",
              "  </tbody>\n",
              "</table>\n",
              "</div>"
            ],
            "text/plain": [
              "        Fecha   Compra\n",
              "0  02/12/2006  7.63900\n",
              "1  03/12/2006  7.63900\n",
              "2  04/12/2006  7.63900\n",
              "3  05/12/2006  7.63729\n",
              "4  06/12/2006  7.64211"
            ]
          },
          "metadata": {
            "tags": []
          },
          "execution_count": 44
        }
      ]
    },
    {
      "cell_type": "code",
      "metadata": {
        "id": "imesPrQnWbrM",
        "colab_type": "code",
        "outputId": "a9bd7d63-6d0f-4230-9c15-14364f4ed8d9",
        "colab": {
          "base_uri": "https://localhost:8080/",
          "height": 204
        }
      },
      "source": [
        "dataset = dataset.rename(columns={'Fecha':'Fecha','Compra': 'Tipo de cambio'})\n",
        "dataset['Fecha'] = pd.to_datetime(dataset['Fecha']) #cambiar formato de fecha para que lo reconozca pandas\n",
        "dataset.tail()"
      ],
      "execution_count": 0,
      "outputs": [
        {
          "output_type": "execute_result",
          "data": {
            "text/html": [
              "<div>\n",
              "<style scoped>\n",
              "    .dataframe tbody tr th:only-of-type {\n",
              "        vertical-align: middle;\n",
              "    }\n",
              "\n",
              "    .dataframe tbody tr th {\n",
              "        vertical-align: top;\n",
              "    }\n",
              "\n",
              "    .dataframe thead th {\n",
              "        text-align: right;\n",
              "    }\n",
              "</style>\n",
              "<table border=\"1\" class=\"dataframe\">\n",
              "  <thead>\n",
              "    <tr style=\"text-align: right;\">\n",
              "      <th></th>\n",
              "      <th>Fecha</th>\n",
              "      <th>Tipo de cambio</th>\n",
              "    </tr>\n",
              "  </thead>\n",
              "  <tbody>\n",
              "    <tr>\n",
              "      <th>4635</th>\n",
              "      <td>2019-11-08</td>\n",
              "      <td>7.66499</td>\n",
              "    </tr>\n",
              "    <tr>\n",
              "      <th>4636</th>\n",
              "      <td>2019-12-08</td>\n",
              "      <td>7.66867</td>\n",
              "    </tr>\n",
              "    <tr>\n",
              "      <th>4637</th>\n",
              "      <td>2019-08-13</td>\n",
              "      <td>7.67125</td>\n",
              "    </tr>\n",
              "    <tr>\n",
              "      <th>4638</th>\n",
              "      <td>2019-08-14</td>\n",
              "      <td>7.67325</td>\n",
              "    </tr>\n",
              "    <tr>\n",
              "      <th>4639</th>\n",
              "      <td>2019-08-15</td>\n",
              "      <td>7.67325</td>\n",
              "    </tr>\n",
              "  </tbody>\n",
              "</table>\n",
              "</div>"
            ],
            "text/plain": [
              "          Fecha  Tipo de cambio\n",
              "4635 2019-11-08         7.66499\n",
              "4636 2019-12-08         7.66867\n",
              "4637 2019-08-13         7.67125\n",
              "4638 2019-08-14         7.67325\n",
              "4639 2019-08-15         7.67325"
            ]
          },
          "metadata": {
            "tags": []
          },
          "execution_count": 49
        }
      ]
    },
    {
      "cell_type": "code",
      "metadata": {
        "id": "6PA7GWgrbLjR",
        "colab_type": "code",
        "outputId": "07cf7bc8-48de-4307-b3e4-d464f0042d14",
        "colab": {
          "base_uri": "https://localhost:8080/",
          "height": 273
        }
      },
      "source": [
        "#Gráfica de la serie\n",
        "serie = dataset.copy()\n",
        "graf = serie.set_index([\"Fecha\"], drop=True)\n",
        "graf.plot()\n",
        "plt.show()"
      ],
      "execution_count": 0,
      "outputs": [
        {
          "output_type": "display_data",
          "data": {
            "image/png": "[encoded data removed]",
            "text/plain": [
              "<Figure size 432x288 with 1 Axes>"
            ]
          },
          "metadata": {
            "tags": []
          }
        }
      ]
    },
    {
      "cell_type": "code",
      "metadata": {
        "id": "as-CvILndd8M",
        "colab_type": "code",
        "outputId": "6cb7ede8-c388-40b9-c536-4ec13970104c",
        "colab": {
          "base_uri": "https://localhost:8080/",
          "height": 269
        }
      },
      "source": [
        "plt.plot(dataset['Tipo de cambio'])\n",
        "plt.show()"
      ],
      "execution_count": 0,
      "outputs": [
        {
          "output_type": "display_data",
          "data": {
            "image/png": "[encoded data removed]",
            "text/plain": [
              "<Figure size 432x288 with 1 Axes>"
            ]
          },
          "metadata": {
            "tags": []
          }
        }
      ]
    },
    {
      "cell_type": "code",
      "metadata": {
        "id": "WGokE0E-g_Ay",
        "colab_type": "code",
        "outputId": "8093a91c-6e0f-4e9a-d6bc-56ec5b7a8879",
        "colab": {
          "base_uri": "https://localhost:8080/",
          "height": 204
        }
      },
      "source": [
        "#normalizar la data\n",
        "scaler = MinMaxScaler(feature_range=(0,1))\n",
        "features = scaler.fit_transform(dataset['Tipo de cambio'].values.reshape(-1,1)) #una única variable (Tipo de cambio)\n",
        "variables = pd.DataFrame(features,columns=['Tipo de cambio'])\n",
        "variables.head()"
      ],
      "execution_count": 0,
      "outputs": [
        {
          "output_type": "execute_result",
          "data": {
            "text/html": [
              "<div>\n",
              "<style scoped>\n",
              "    .dataframe tbody tr th:only-of-type {\n",
              "        vertical-align: middle;\n",
              "    }\n",
              "\n",
              "    .dataframe tbody tr th {\n",
              "        vertical-align: top;\n",
              "    }\n",
              "\n",
              "    .dataframe thead th {\n",
              "        text-align: right;\n",
              "    }\n",
              "</style>\n",
              "<table border=\"1\" class=\"dataframe\">\n",
              "  <thead>\n",
              "    <tr style=\"text-align: right;\">\n",
              "      <th></th>\n",
              "      <th>Tipo de cambio</th>\n",
              "    </tr>\n",
              "  </thead>\n",
              "  <tbody>\n",
              "    <tr>\n",
              "      <th>0</th>\n",
              "      <td>0.328441</td>\n",
              "    </tr>\n",
              "    <tr>\n",
              "      <th>1</th>\n",
              "      <td>0.328441</td>\n",
              "    </tr>\n",
              "    <tr>\n",
              "      <th>2</th>\n",
              "      <td>0.328441</td>\n",
              "    </tr>\n",
              "    <tr>\n",
              "      <th>3</th>\n",
              "      <td>0.326921</td>\n",
              "    </tr>\n",
              "    <tr>\n",
              "      <th>4</th>\n",
              "      <td>0.331204</td>\n",
              "    </tr>\n",
              "  </tbody>\n",
              "</table>\n",
              "</div>"
            ],
            "text/plain": [
              "   Tipo de cambio\n",
              "0        0.328441\n",
              "1        0.328441\n",
              "2        0.328441\n",
              "3        0.326921\n",
              "4        0.331204"
            ]
          },
          "metadata": {
            "tags": []
          },
          "execution_count": 87
        }
      ]
    },
    {
      "cell_type": "markdown",
      "metadata": {
        "id": "x1XdFGgXnUny",
        "colab_type": "text"
      },
      "source": [
        "Preparar data para la serie de tiempo"
      ]
    },
    {
      "cell_type": "code",
      "metadata": {
        "id": "G_GXgX1SnI40",
        "colab_type": "code",
        "colab": {}
      },
      "source": [
        "lookback = 10 #10 días hacia atrás \n",
        "X, Y = [], []\n",
        "for i in range(len(dataset)-lookback-1):\n",
        "\ta = features[i:(i+lookback), 0]\n",
        "\tX.append(a)\n",
        "\tY.append(features[i + lookback, 0])"
      ],
      "execution_count": 0,
      "outputs": []
    },
    {
      "cell_type": "code",
      "metadata": {
        "id": "XMw5edWQp7n7",
        "colab_type": "code",
        "colab": {}
      },
      "source": [
        "X_train = np.array(X)\n",
        "y_train = np.array(Y)\n",
        "train_size = int(len(dataset) * 0.8) #80% para entrenar\n",
        "test_size = len(dataset) - train_size\n",
        "X_test = X_train[:test_size+lookback]\n",
        "x_train = np.reshape(X_train, (X_train.shape[0], 1, X_train.shape[1]))\n",
        "x_test = np.reshape(X_test, (X_test.shape[0], 1, X_test.shape[1]))"
      ],
      "execution_count": 0,
      "outputs": []
    },
    {
      "cell_type": "code",
      "metadata": {
        "id": "UiKRCoa5rekU",
        "colab_type": "code",
        "outputId": "fbde10d8-0458-46df-9097-c0b6276b8d77",
        "colab": {
          "base_uri": "https://localhost:8080/",
          "height": 51
        }
      },
      "source": [
        "print(x_train.shape)\n",
        "print(x_test.shape)"
      ],
      "execution_count": 0,
      "outputs": [
        {
          "output_type": "stream",
          "text": [
            "(4629, 1, 10)\n",
            "(938, 1, 10)\n"
          ],
          "name": "stdout"
        }
      ]
    },
    {
      "cell_type": "code",
      "metadata": {
        "id": "Gpb5IiKIs-Mk",
        "colab_type": "code",
        "outputId": "02b5505b-f962-4b5a-83f6-5ee2a3146865",
        "colab": {
          "base_uri": "https://localhost:8080/",
          "height": 1000
        }
      },
      "source": [
        "model = Sequential()\n",
        "model.add(LSTM(30, return_sequences= True, input_shape=(x_train.shape[1],10)))\n",
        "model.add(LSTM(30, return_sequences=True))\n",
        "model.add(LSTM(30))\n",
        "model.add(Dense(1))\n",
        "model.compile(optimizer='adam', loss='mean_squared_error')\n",
        "model.fit(x_train, y_train, epochs=200, batch_size=32)\n",
        "prediccion = model.predict(x_test) #prediccion con test ya que fue entrenado \n",
        "model.summary()"
      ],
      "execution_count": 0,
      "outputs": [
        {
          "output_type": "stream",
          "text": [
            "WARNING:tensorflow:From /usr/local/lib/python3.6/dist-packages/tensorflow/python/ops/math_grad.py:1250: add_dispatch_support.<locals>.wrapper (from tensorflow.python.ops.array_ops) is deprecated and will be removed in a future version.\n",
            "Instructions for updating:\n",
            "Use tf.where in 2.0, which has the same broadcast rule as np.where\n",
            "WARNING:tensorflow:From /usr/local/lib/python3.6/dist-packages/keras/backend/tensorflow_backend.py:1033: The name tf.assign_add is deprecated. Please use tf.compat.v1.assign_add instead.\n",
            "\n",
            "WARNING:tensorflow:From /usr/local/lib/python3.6/dist-packages/keras/backend/tensorflow_backend.py:1020: The name tf.assign is deprecated. Please use tf.compat.v1.assign instead.\n",
            "\n",
            "Epoch 1/200\n",
            "4629/4629 [==============================] - 3s 670us/step - loss: 0.0404\n",
            "Epoch 2/200\n",
            "4629/4629 [==============================] - 1s 169us/step - loss: 0.0011\n",
            "Epoch 3/200\n",
            "4629/4629 [==============================] - 1s 172us/step - loss: 6.5226e-04\n",
            "Epoch 4/200\n",
            "4629/4629 [==============================] - 1s 162us/step - loss: 4.8339e-04\n",
            "Epoch 5/200\n",
            "4629/4629 [==============================] - 1s 159us/step - loss: 4.3966e-04\n",
            "Epoch 6/200\n",
            "4629/4629 [==============================] - 1s 161us/step - loss: 4.2416e-04\n",
            "Epoch 7/200\n",
            "4629/4629 [==============================] - 1s 169us/step - loss: 3.9088e-04\n",
            "Epoch 8/200\n",
            "4629/4629 [==============================] - 1s 182us/step - loss: 3.6902e-04\n",
            "Epoch 9/200\n",
            "4629/4629 [==============================] - 1s 170us/step - loss: 3.5045e-04\n",
            "Epoch 10/200\n",
            "4629/4629 [==============================] - 1s 173us/step - loss: 3.1798e-04\n",
            "Epoch 11/200\n",
            "4629/4629 [==============================] - 1s 171us/step - loss: 2.9001e-04\n",
            "Epoch 12/200\n",
            "4629/4629 [==============================] - 1s 160us/step - loss: 2.5820e-04\n",
            "Epoch 13/200\n",
            "4629/4629 [==============================] - 1s 161us/step - loss: 2.2871e-04\n",
            "Epoch 14/200\n",
            "4629/4629 [==============================] - 1s 160us/step - loss: 2.1269e-04\n",
            "Epoch 15/200\n",
            "4629/4629 [==============================] - 1s 168us/step - loss: 1.8315e-04\n",
            "Epoch 16/200\n",
            "4629/4629 [==============================] - 1s 160us/step - loss: 1.8197e-04\n",
            "Epoch 17/200\n",
            "4629/4629 [==============================] - 1s 170us/step - loss: 1.7162e-04\n",
            "Epoch 18/200\n",
            "4629/4629 [==============================] - 1s 170us/step - loss: 1.5485e-04\n",
            "Epoch 19/200\n",
            "4629/4629 [==============================] - 1s 170us/step - loss: 1.5294e-04\n",
            "Epoch 20/200\n",
            "4629/4629 [==============================] - 1s 169us/step - loss: 1.4691e-04\n",
            "Epoch 21/200\n",
            "4629/4629 [==============================] - 1s 178us/step - loss: 1.3988e-04\n",
            "Epoch 22/200\n",
            "4629/4629 [==============================] - 1s 172us/step - loss: 1.5015e-04\n",
            "Epoch 23/200\n",
            "4629/4629 [==============================] - 1s 169us/step - loss: 1.5500e-04\n",
            "Epoch 24/200\n",
            "4629/4629 [==============================] - 1s 174us/step - loss: 1.5184e-04\n",
            "Epoch 25/200\n",
            "4629/4629 [==============================] - 1s 168us/step - loss: 1.3375e-04\n",
            "Epoch 26/200\n",
            "4629/4629 [==============================] - 1s 166us/step - loss: 1.3922e-04\n",
            "Epoch 27/200\n",
            "4629/4629 [==============================] - 1s 175us/step - loss: 1.2184e-04\n",
            "Epoch 28/200\n",
            "4629/4629 [==============================] - 1s 167us/step - loss: 1.2254e-04\n",
            "Epoch 29/200\n",
            "4629/4629 [==============================] - 1s 165us/step - loss: 1.2188e-04\n",
            "Epoch 30/200\n",
            "4629/4629 [==============================] - 1s 179us/step - loss: 1.1491e-04\n",
            "Epoch 31/200\n",
            "4629/4629 [==============================] - 1s 178us/step - loss: 1.1504e-04\n",
            "Epoch 32/200\n",
            "4629/4629 [==============================] - 1s 166us/step - loss: 1.1087e-04\n",
            "Epoch 33/200\n",
            "4629/4629 [==============================] - 1s 169us/step - loss: 1.1192e-04\n",
            "Epoch 34/200\n",
            "4629/4629 [==============================] - 1s 174us/step - loss: 1.0702e-04\n",
            "Epoch 35/200\n",
            "4629/4629 [==============================] - 1s 169us/step - loss: 1.1445e-04\n",
            "Epoch 36/200\n",
            "4629/4629 [==============================] - 1s 169us/step - loss: 1.0480e-04\n",
            "Epoch 37/200\n",
            "4629/4629 [==============================] - 1s 177us/step - loss: 1.0553e-04\n",
            "Epoch 38/200\n",
            "4629/4629 [==============================] - 1s 167us/step - loss: 1.0231e-04\n",
            "Epoch 39/200\n",
            "4629/4629 [==============================] - 1s 166us/step - loss: 1.0761e-04\n",
            "Epoch 40/200\n",
            "4629/4629 [==============================] - 1s 174us/step - loss: 1.0046e-04\n",
            "Epoch 41/200\n",
            "4629/4629 [==============================] - 1s 177us/step - loss: 9.9950e-05\n",
            "Epoch 42/200\n",
            "4629/4629 [==============================] - 1s 173us/step - loss: 1.0289e-04\n",
            "Epoch 43/200\n",
            "4629/4629 [==============================] - 1s 185us/step - loss: 9.6596e-05\n",
            "Epoch 44/200\n",
            "4629/4629 [==============================] - 1s 180us/step - loss: 9.4670e-05\n",
            "Epoch 45/200\n",
            "4629/4629 [==============================] - 1s 177us/step - loss: 1.0991e-04\n",
            "Epoch 46/200\n",
            "4629/4629 [==============================] - 1s 165us/step - loss: 9.2979e-05\n",
            "Epoch 47/200\n",
            "4629/4629 [==============================] - 1s 180us/step - loss: 9.6696e-05\n",
            "Epoch 48/200\n",
            "4629/4629 [==============================] - 1s 160us/step - loss: 9.8535e-05\n",
            "Epoch 49/200\n",
            "4629/4629 [==============================] - 1s 176us/step - loss: 9.5263e-05\n",
            "Epoch 50/200\n",
            "4629/4629 [==============================] - 1s 174us/step - loss: 8.8970e-05\n",
            "Epoch 51/200\n",
            "4629/4629 [==============================] - 1s 187us/step - loss: 9.5858e-05\n",
            "Epoch 52/200\n",
            "4629/4629 [==============================] - 1s 172us/step - loss: 1.0344e-04\n",
            "Epoch 53/200\n",
            "4629/4629 [==============================] - 1s 184us/step - loss: 9.3422e-05\n",
            "Epoch 54/200\n",
            "4629/4629 [==============================] - 1s 175us/step - loss: 9.3124e-05\n",
            "Epoch 55/200\n",
            "4629/4629 [==============================] - 1s 174us/step - loss: 9.5783e-05\n",
            "Epoch 56/200\n",
            "4629/4629 [==============================] - 1s 173us/step - loss: 9.1855e-05\n",
            "Epoch 57/200\n",
            "4629/4629 [==============================] - 1s 175us/step - loss: 9.4236e-05\n",
            "Epoch 58/200\n",
            "4629/4629 [==============================] - 1s 166us/step - loss: 8.9541e-05\n",
            "Epoch 59/200\n",
            "4629/4629 [==============================] - 1s 170us/step - loss: 8.7813e-05\n",
            "Epoch 60/200\n",
            "4629/4629 [==============================] - 1s 174us/step - loss: 9.0034e-05\n",
            "Epoch 61/200\n",
            "4629/4629 [==============================] - 1s 173us/step - loss: 8.9935e-05\n",
            "Epoch 62/200\n",
            "4629/4629 [==============================] - 1s 168us/step - loss: 9.8515e-05\n",
            "Epoch 63/200\n",
            "4629/4629 [==============================] - 1s 173us/step - loss: 9.4622e-05\n",
            "Epoch 64/200\n",
            "4629/4629 [==============================] - 1s 169us/step - loss: 9.2140e-05\n",
            "Epoch 65/200\n",
            "4629/4629 [==============================] - 1s 164us/step - loss: 8.3015e-05\n",
            "Epoch 66/200\n",
            "4629/4629 [==============================] - 1s 167us/step - loss: 8.3708e-05\n",
            "Epoch 67/200\n",
            "4629/4629 [==============================] - 1s 157us/step - loss: 9.2292e-05\n",
            "Epoch 68/200\n",
            "4629/4629 [==============================] - 1s 167us/step - loss: 8.7962e-05\n",
            "Epoch 69/200\n",
            "4629/4629 [==============================] - 1s 166us/step - loss: 8.2119e-05\n",
            "Epoch 70/200\n",
            "4629/4629 [==============================] - 1s 168us/step - loss: 8.2542e-05\n",
            "Epoch 71/200\n",
            "4629/4629 [==============================] - 1s 160us/step - loss: 8.3429e-05\n",
            "Epoch 72/200\n",
            "4629/4629 [==============================] - 1s 168us/step - loss: 8.1622e-05\n",
            "Epoch 73/200\n",
            "4629/4629 [==============================] - 1s 166us/step - loss: 8.6850e-05\n",
            "Epoch 74/200\n",
            "4629/4629 [==============================] - 1s 168us/step - loss: 8.0733e-05\n",
            "Epoch 75/200\n",
            "4629/4629 [==============================] - 1s 166us/step - loss: 7.7627e-05\n",
            "Epoch 76/200\n",
            "4629/4629 [==============================] - 1s 158us/step - loss: 8.1002e-05\n",
            "Epoch 77/200\n",
            "4629/4629 [==============================] - 1s 167us/step - loss: 8.8167e-05\n",
            "Epoch 78/200\n",
            "4629/4629 [==============================] - 1s 184us/step - loss: 8.2043e-05\n",
            "Epoch 79/200\n",
            "4629/4629 [==============================] - 1s 183us/step - loss: 7.7743e-05\n",
            "Epoch 80/200\n",
            "4629/4629 [==============================] - 1s 169us/step - loss: 8.0850e-05\n",
            "Epoch 81/200\n",
            "4629/4629 [==============================] - 1s 171us/step - loss: 7.5945e-05\n",
            "Epoch 82/200\n",
            "4629/4629 [==============================] - 1s 172us/step - loss: 7.7325e-05\n",
            "Epoch 83/200\n",
            "4629/4629 [==============================] - 1s 161us/step - loss: 8.5379e-05\n",
            "Epoch 84/200\n",
            "4629/4629 [==============================] - 1s 185us/step - loss: 7.8934e-05\n",
            "Epoch 85/200\n",
            "4629/4629 [==============================] - 1s 171us/step - loss: 7.4017e-05\n",
            "Epoch 86/200\n",
            "4629/4629 [==============================] - 1s 166us/step - loss: 7.9641e-05\n",
            "Epoch 87/200\n",
            "4629/4629 [==============================] - 1s 174us/step - loss: 8.4809e-05\n",
            "Epoch 88/200\n",
            "4629/4629 [==============================] - 1s 168us/step - loss: 7.2872e-05\n",
            "Epoch 89/200\n",
            "4629/4629 [==============================] - 1s 164us/step - loss: 7.3731e-05\n",
            "Epoch 90/200\n",
            "4629/4629 [==============================] - 1s 165us/step - loss: 8.3631e-05\n",
            "Epoch 91/200\n",
            "4629/4629 [==============================] - 1s 162us/step - loss: 7.1716e-05\n",
            "Epoch 92/200\n",
            "4629/4629 [==============================] - 1s 170us/step - loss: 7.0183e-05\n",
            "Epoch 93/200\n",
            "4629/4629 [==============================] - 1s 163us/step - loss: 7.1350e-05\n",
            "Epoch 94/200\n",
            "4629/4629 [==============================] - 1s 170us/step - loss: 7.7037e-05\n",
            "Epoch 95/200\n",
            "4629/4629 [==============================] - 1s 170us/step - loss: 8.8173e-05\n",
            "Epoch 96/200\n",
            "4629/4629 [==============================] - 1s 168us/step - loss: 7.9769e-05\n",
            "Epoch 97/200\n",
            "4629/4629 [==============================] - 1s 169us/step - loss: 7.3923e-05\n",
            "Epoch 98/200\n",
            "4629/4629 [==============================] - 1s 170us/step - loss: 8.7591e-05\n",
            "Epoch 99/200\n",
            "4629/4629 [==============================] - 1s 168us/step - loss: 7.3905e-05\n",
            "Epoch 100/200\n",
            "4629/4629 [==============================] - 1s 172us/step - loss: 7.0611e-05\n",
            "Epoch 101/200\n",
            "4629/4629 [==============================] - 1s 188us/step - loss: 7.2582e-05\n",
            "Epoch 102/200\n",
            "4629/4629 [==============================] - 1s 183us/step - loss: 6.8486e-05\n",
            "Epoch 103/200\n",
            "4629/4629 [==============================] - 1s 177us/step - loss: 7.7008e-05\n",
            "Epoch 104/200\n",
            "4629/4629 [==============================] - 1s 176us/step - loss: 7.3743e-05\n",
            "Epoch 105/200\n",
            "4629/4629 [==============================] - 1s 182us/step - loss: 7.4625e-05\n",
            "Epoch 106/200\n",
            "4629/4629 [==============================] - 1s 178us/step - loss: 7.7249e-05\n",
            "Epoch 107/200\n",
            "4629/4629 [==============================] - 1s 183us/step - loss: 7.0143e-05\n",
            "Epoch 108/200\n",
            "4629/4629 [==============================] - 1s 177us/step - loss: 7.1599e-05\n",
            "Epoch 109/200\n",
            "4629/4629 [==============================] - 1s 200us/step - loss: 6.9896e-05\n",
            "Epoch 110/200\n",
            "4629/4629 [==============================] - 1s 180us/step - loss: 8.4731e-05\n",
            "Epoch 111/200\n",
            "4629/4629 [==============================] - 1s 178us/step - loss: 6.9729e-05\n",
            "Epoch 112/200\n",
            "4629/4629 [==============================] - 1s 180us/step - loss: 7.0560e-05\n",
            "Epoch 113/200\n",
            "4629/4629 [==============================] - 1s 172us/step - loss: 7.1690e-05\n",
            "Epoch 114/200\n",
            "4629/4629 [==============================] - 1s 171us/step - loss: 6.9293e-05\n",
            "Epoch 115/200\n",
            "4629/4629 [==============================] - 1s 159us/step - loss: 7.0989e-05\n",
            "Epoch 116/200\n",
            "4629/4629 [==============================] - 1s 165us/step - loss: 7.5483e-05\n",
            "Epoch 117/200\n",
            "4629/4629 [==============================] - 1s 162us/step - loss: 8.3988e-05\n",
            "Epoch 118/200\n",
            "4629/4629 [==============================] - 1s 162us/step - loss: 6.6564e-05\n",
            "Epoch 119/200\n",
            "4629/4629 [==============================] - 1s 168us/step - loss: 7.1587e-05\n",
            "Epoch 120/200\n",
            "4629/4629 [==============================] - 1s 165us/step - loss: 6.5240e-05\n",
            "Epoch 121/200\n",
            "4629/4629 [==============================] - 1s 182us/step - loss: 6.7654e-05\n",
            "Epoch 122/200\n",
            "4629/4629 [==============================] - 1s 175us/step - loss: 7.3482e-05\n",
            "Epoch 123/200\n",
            "4629/4629 [==============================] - 1s 169us/step - loss: 7.2048e-05\n",
            "Epoch 124/200\n",
            "4629/4629 [==============================] - 1s 174us/step - loss: 6.8601e-05\n",
            "Epoch 125/200\n",
            "4629/4629 [==============================] - 1s 166us/step - loss: 6.9116e-05\n",
            "Epoch 126/200\n",
            "4629/4629 [==============================] - 1s 170us/step - loss: 7.0574e-05\n",
            "Epoch 127/200\n",
            "4629/4629 [==============================] - 1s 182us/step - loss: 7.2722e-05\n",
            "Epoch 128/200\n",
            "4629/4629 [==============================] - 1s 187us/step - loss: 6.7306e-05\n",
            "Epoch 129/200\n",
            "4629/4629 [==============================] - 1s 168us/step - loss: 6.8463e-05\n",
            "Epoch 130/200\n",
            "4629/4629 [==============================] - 1s 160us/step - loss: 6.7207e-05\n",
            "Epoch 131/200\n",
            "4629/4629 [==============================] - 1s 166us/step - loss: 7.5393e-05\n",
            "Epoch 132/200\n",
            "4629/4629 [==============================] - 1s 167us/step - loss: 6.9420e-05\n",
            "Epoch 133/200\n",
            "4629/4629 [==============================] - 1s 168us/step - loss: 6.8316e-05\n",
            "Epoch 134/200\n",
            "4629/4629 [==============================] - 1s 170us/step - loss: 6.6252e-05\n",
            "Epoch 135/200\n",
            "4629/4629 [==============================] - 1s 169us/step - loss: 7.4911e-05\n",
            "Epoch 136/200\n",
            "4629/4629 [==============================] - 1s 167us/step - loss: 6.5215e-05\n",
            "Epoch 137/200\n",
            "4629/4629 [==============================] - 1s 169us/step - loss: 7.0154e-05\n",
            "Epoch 138/200\n",
            "4629/4629 [==============================] - 1s 169us/step - loss: 6.8220e-05\n",
            "Epoch 139/200\n",
            "4629/4629 [==============================] - 1s 170us/step - loss: 7.1163e-05\n",
            "Epoch 140/200\n",
            "4629/4629 [==============================] - 1s 178us/step - loss: 6.5843e-05\n",
            "Epoch 141/200\n",
            "4629/4629 [==============================] - 1s 165us/step - loss: 6.9567e-05\n",
            "Epoch 142/200\n",
            "4629/4629 [==============================] - 1s 170us/step - loss: 7.5608e-05\n",
            "Epoch 143/200\n",
            "4629/4629 [==============================] - 1s 174us/step - loss: 6.5329e-05\n",
            "Epoch 144/200\n",
            "4629/4629 [==============================] - 1s 178us/step - loss: 6.6976e-05\n",
            "Epoch 145/200\n",
            "4629/4629 [==============================] - 1s 177us/step - loss: 7.1255e-05\n",
            "Epoch 146/200\n",
            "4629/4629 [==============================] - 1s 167us/step - loss: 6.6690e-05\n",
            "Epoch 147/200\n",
            "4629/4629 [==============================] - 1s 166us/step - loss: 7.3568e-05\n",
            "Epoch 148/200\n",
            "4629/4629 [==============================] - 1s 170us/step - loss: 9.0629e-05\n",
            "Epoch 149/200\n",
            "4629/4629 [==============================] - 1s 159us/step - loss: 6.4344e-05\n",
            "Epoch 150/200\n",
            "4629/4629 [==============================] - 1s 167us/step - loss: 6.5586e-05\n",
            "Epoch 151/200\n",
            "4629/4629 [==============================] - 1s 163us/step - loss: 6.3714e-05\n",
            "Epoch 152/200\n",
            "4629/4629 [==============================] - 1s 164us/step - loss: 7.5076e-05\n",
            "Epoch 153/200\n",
            "4629/4629 [==============================] - 1s 170us/step - loss: 6.3256e-05\n",
            "Epoch 154/200\n",
            "4629/4629 [==============================] - 1s 157us/step - loss: 6.4059e-05\n",
            "Epoch 155/200\n",
            "4629/4629 [==============================] - 1s 163us/step - loss: 6.7141e-05\n",
            "Epoch 156/200\n",
            "4629/4629 [==============================] - 1s 163us/step - loss: 6.6336e-05\n",
            "Epoch 157/200\n",
            "4629/4629 [==============================] - 1s 170us/step - loss: 6.7111e-05\n",
            "Epoch 158/200\n",
            "4629/4629 [==============================] - 1s 170us/step - loss: 6.8642e-05\n",
            "Epoch 159/200\n",
            "4629/4629 [==============================] - 1s 173us/step - loss: 6.1025e-05\n",
            "Epoch 160/200\n",
            "4629/4629 [==============================] - 1s 172us/step - loss: 7.4536e-05\n",
            "Epoch 161/200\n",
            "4629/4629 [==============================] - 1s 173us/step - loss: 6.6956e-05\n",
            "Epoch 162/200\n",
            "4629/4629 [==============================] - 1s 164us/step - loss: 6.7797e-05\n",
            "Epoch 163/200\n",
            "4629/4629 [==============================] - 1s 167us/step - loss: 6.6349e-05\n",
            "Epoch 164/200\n",
            "4629/4629 [==============================] - 1s 170us/step - loss: 6.3383e-05\n",
            "Epoch 165/200\n",
            "4629/4629 [==============================] - 1s 165us/step - loss: 8.0633e-05\n",
            "Epoch 166/200\n",
            "4629/4629 [==============================] - 1s 171us/step - loss: 6.6312e-05\n",
            "Epoch 167/200\n",
            "4629/4629 [==============================] - 1s 169us/step - loss: 6.5824e-05\n",
            "Epoch 168/200\n",
            "4629/4629 [==============================] - 1s 170us/step - loss: 6.3510e-05\n",
            "Epoch 169/200\n",
            "4629/4629 [==============================] - 1s 169us/step - loss: 7.7599e-05\n",
            "Epoch 170/200\n",
            "4629/4629 [==============================] - 1s 178us/step - loss: 7.1101e-05\n",
            "Epoch 171/200\n",
            "4629/4629 [==============================] - 1s 170us/step - loss: 6.4792e-05\n",
            "Epoch 172/200\n",
            "4629/4629 [==============================] - 1s 169us/step - loss: 6.7103e-05\n",
            "Epoch 173/200\n",
            "4629/4629 [==============================] - 1s 166us/step - loss: 6.1900e-05\n",
            "Epoch 174/200\n",
            "4629/4629 [==============================] - 1s 165us/step - loss: 6.6018e-05\n",
            "Epoch 175/200\n",
            "4629/4629 [==============================] - 1s 176us/step - loss: 6.3426e-05\n",
            "Epoch 176/200\n",
            "4629/4629 [==============================] - 1s 166us/step - loss: 6.6761e-05\n",
            "Epoch 177/200\n",
            "4629/4629 [==============================] - 1s 173us/step - loss: 6.0799e-05\n",
            "Epoch 178/200\n",
            "4629/4629 [==============================] - 1s 171us/step - loss: 6.4264e-05\n",
            "Epoch 179/200\n",
            "4629/4629 [==============================] - 1s 175us/step - loss: 7.0980e-05\n",
            "Epoch 180/200\n",
            "4629/4629 [==============================] - 1s 164us/step - loss: 6.5116e-05\n",
            "Epoch 181/200\n",
            "4629/4629 [==============================] - 1s 168us/step - loss: 6.2143e-05\n",
            "Epoch 182/200\n",
            "4629/4629 [==============================] - 1s 164us/step - loss: 6.5423e-05\n",
            "Epoch 183/200\n",
            "4629/4629 [==============================] - 1s 170us/step - loss: 7.5520e-05\n",
            "Epoch 184/200\n",
            "4629/4629 [==============================] - 1s 163us/step - loss: 6.8648e-05\n",
            "Epoch 185/200\n",
            "4629/4629 [==============================] - 1s 183us/step - loss: 6.4568e-05\n",
            "Epoch 186/200\n",
            "4629/4629 [==============================] - 1s 176us/step - loss: 6.1305e-05\n",
            "Epoch 187/200\n",
            "4629/4629 [==============================] - 1s 171us/step - loss: 6.1532e-05\n",
            "Epoch 188/200\n",
            "4629/4629 [==============================] - 1s 169us/step - loss: 6.2676e-05\n",
            "Epoch 189/200\n",
            "4629/4629 [==============================] - 1s 183us/step - loss: 6.5148e-05\n",
            "Epoch 190/200\n",
            "4629/4629 [==============================] - 1s 161us/step - loss: 7.3124e-05\n",
            "Epoch 191/200\n",
            "4629/4629 [==============================] - 1s 167us/step - loss: 6.0615e-05\n",
            "Epoch 192/200\n",
            "4629/4629 [==============================] - 1s 168us/step - loss: 6.3110e-05\n",
            "Epoch 193/200\n",
            "4629/4629 [==============================] - 1s 172us/step - loss: 6.4143e-05\n",
            "Epoch 194/200\n",
            "4629/4629 [==============================] - 1s 165us/step - loss: 6.4129e-05\n",
            "Epoch 195/200\n",
            "4629/4629 [==============================] - 1s 176us/step - loss: 7.3728e-05\n",
            "Epoch 196/200\n",
            "4629/4629 [==============================] - 1s 192us/step - loss: 6.1123e-05\n",
            "Epoch 197/200\n",
            "4629/4629 [==============================] - 1s 177us/step - loss: 6.1373e-05\n",
            "Epoch 198/200\n",
            "4629/4629 [==============================] - 1s 161us/step - loss: 6.2598e-05\n",
            "Epoch 199/200\n",
            "4629/4629 [==============================] - 1s 178us/step - loss: 6.2369e-05\n",
            "Epoch 200/200\n",
            "4629/4629 [==============================] - 1s 194us/step - loss: 5.9638e-05\n",
            "Model: \"sequential_4\"\n",
            "_________________________________________________________________\n",
            "Layer (type)                 Output Shape              Param #   \n",
            "=================================================================\n",
            "lstm_7 (LSTM)                (None, 1, 30)             4920      \n",
            "_________________________________________________________________\n",
            "lstm_8 (LSTM)                (None, 1, 30)             7320      \n",
            "_________________________________________________________________\n",
            "lstm_9 (LSTM)                (None, 30)                7320      \n",
            "_________________________________________________________________\n",
            "dense_3 (Dense)              (None, 1)                 31        \n",
            "=================================================================\n",
            "Total params: 19,591\n",
            "Trainable params: 19,591\n",
            "Non-trainable params: 0\n",
            "_________________________________________________________________\n"
          ],
          "name": "stdout"
        }
      ]
    },
    {
      "cell_type": "code",
      "metadata": {
        "id": "UbpaQrhYvXGD",
        "colab_type": "code",
        "outputId": "a9168ae9-90df-48b5-91e9-e98dbbc13697",
        "colab": {
          "base_uri": "https://localhost:8080/",
          "height": 295
        }
      },
      "source": [
        "plt.plot(prediccion, color= 'blue')\n",
        "plt.plot(features[lookback:test_size+(2*lookback),0], color='green')\n",
        "plt.title(\"Serie de tiempo: Tipo de cambio GTQ - US$\")\n",
        "plt.xlabel(\"Tiempo\")\n",
        "plt.ylabel(\"Tipo de cambio\")\n",
        "plt.legend(['Prediccion', 'Datos reales'], loc='upper left')\n",
        "plt.show()"
      ],
      "execution_count": 0,
      "outputs": [
        {
          "output_type": "display_data",
          "data": {
            "image/png": "[encoded data removed]",
            "text/plain": [
              "<Figure size 432x288 with 1 Axes>"
            ]
          },
          "metadata": {
            "tags": []
          }
        }
      ]
    },
    {
      "cell_type": "markdown",
      "metadata": {
        "id": "6gfYBx3A1y5t",
        "colab_type": "text"
      },
      "source": [
        "Como se puede observar, la predicción (azul) fue bastante buena en relación a los valores reales (verde). "
      ]
    }
  ]
}