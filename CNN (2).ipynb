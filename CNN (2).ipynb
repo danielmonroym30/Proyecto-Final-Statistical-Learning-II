{
  "nbformat": 4,
  "nbformat_minor": 0,
  "metadata": {
    "colab": {
      "name": "CNN.ipynb",
      "provenance": [],
      "collapsed_sections": []
    },
    "kernelspec": {
      "name": "python3",
      "display_name": "Python 3"
    },
    "accelerator": "GPU"
  },
  "cells": [
    {
      "cell_type": "markdown",
      "metadata": {
        "id": "4uNds6sbE1Yp",
        "colab_type": "text"
      },
      "source": [
        "**CNN** - Daniel Conrado Monroy Madrid 16012674\n",
        "*Proyecto final*"
      ]
    },
    {
      "cell_type": "code",
      "metadata": {
        "id": "ISJm6P9GwCz2",
        "colab_type": "code",
        "colab": {
          "base_uri": "https://localhost:8080/",
          "height": 34
        },
        "outputId": "4e3e6ad7-5178-464b-dbd5-308c3fd6e54c"
      },
      "source": [
        "import pandas as pd\n",
        "import tensorflow as tf\n",
        "from tensorflow import keras\n",
        "import numpy as np\n",
        "import matplotlib.pyplot as plt\n",
        "from keras.models import Sequential\n",
        "from keras.layers import Dense\n",
        "from keras.datasets import cifar10\n",
        "from keras.utils import to_categorical\n",
        "from keras.layers import Conv2D\n",
        "from keras.layers import MaxPooling2D\n",
        "from keras.layers import Flatten\n",
        "from keras.layers import BatchNormalization\n",
        "from keras import optimizers\n",
        "from keras.layers import Dropout\n",
        "from keras.callbacks import ModelCheckpoint"
      ],
      "execution_count": 1,
      "outputs": [
        {
          "output_type": "stream",
          "text": [
            "Using TensorFlow backend.\n"
          ],
          "name": "stderr"
        }
      ]
    },
    {
      "cell_type": "markdown",
      "metadata": {
        "id": "otI30sAExRAG",
        "colab_type": "text"
      },
      "source": [
        "Carga y visualización de la data"
      ]
    },
    {
      "cell_type": "code",
      "metadata": {
        "id": "Uso7wwzEwSOv",
        "colab_type": "code",
        "colab": {
          "base_uri": "https://localhost:8080/",
          "height": 51
        },
        "outputId": "589692fe-9302-40b1-861e-7651b721a8e4"
      },
      "source": [
        "(X_train, y_train),(X_test, y_test) = cifar10.load_data()"
      ],
      "execution_count": 2,
      "outputs": [
        {
          "output_type": "stream",
          "text": [
            "Downloading data from https://www.cs.toronto.edu/~kriz/cifar-10-python.tar.gz\n",
            "170500096/170498071 [==============================] - 6s 0us/step\n"
          ],
          "name": "stdout"
        }
      ]
    },
    {
      "cell_type": "code",
      "metadata": {
        "id": "fhc7Xluzxsvj",
        "colab_type": "code",
        "outputId": "8b1c274c-6a4c-4f4e-be11-a9bf3558fc6b",
        "colab": {
          "base_uri": "https://localhost:8080/",
          "height": 51
        }
      },
      "source": [
        "print('X_train shape: ',X_train.shape)\n",
        "print('y_train shape: ',y_train.shape)"
      ],
      "execution_count": 3,
      "outputs": [
        {
          "output_type": "stream",
          "text": [
            "X_train shape:  (50000, 32, 32, 3)\n",
            "y_train shape:  (50000, 1)\n"
          ],
          "name": "stdout"
        }
      ]
    },
    {
      "cell_type": "markdown",
      "metadata": {
        "id": "s1mf4WPh3Lnf",
        "colab_type": "text"
      },
      "source": [
        "Los objetos a detectar son (labels):\n",
        "\n",
        "\n",
        "*   0: airplane\n",
        "*   1: automobile\n",
        "*   2: bird\n",
        "*   3: cat\n",
        "*   4: deer\n",
        "*   5: dog\n",
        "*   6: frog\n",
        "*   7: horse\n",
        "*   8: ship\n",
        "*   9: truck"
      ]
    },
    {
      "cell_type": "code",
      "metadata": {
        "id": "a2gj7GP5FZZ_",
        "colab_type": "code",
        "colab": {
          "base_uri": "https://localhost:8080/",
          "height": 192
        },
        "outputId": "382d3d87-08eb-4bdb-b1fa-1648bd35c075"
      },
      "source": [
        "#visualización de las primeras 6 imágenes del train set\n",
        "for i in range(6):\n",
        "  plt.subplot(330+1+i)\n",
        "  plt.imshow(X_train[i])\n",
        "plt.show()"
      ],
      "execution_count": 16,
      "outputs": [
        {
          "output_type": "display_data",
          "data": {
            "image/png": "[encoded data removed]",
            "text/plain": [
              "<Figure size 432x288 with 6 Axes>"
            ]
          },
          "metadata": {
            "tags": []
          }
        }
      ]
    },
    {
      "cell_type": "code",
      "metadata": {
        "id": "VwdLoReM4ufw",
        "colab_type": "code",
        "outputId": "e82829f3-6379-4631-9068-457eeded8fbc",
        "colab": {
          "base_uri": "https://localhost:8080/",
          "height": 136
        }
      },
      "source": [
        "#One hot encoding \n",
        "train_label = to_categorical(y_train)\n",
        "test_label = to_categorical(y_test)\n",
        "train_label"
      ],
      "execution_count": 4,
      "outputs": [
        {
          "output_type": "execute_result",
          "data": {
            "text/plain": [
              "array([[0., 0., 0., ..., 0., 0., 0.],\n",
              "       [0., 0., 0., ..., 0., 0., 1.],\n",
              "       [0., 0., 0., ..., 0., 0., 1.],\n",
              "       ...,\n",
              "       [0., 0., 0., ..., 0., 0., 1.],\n",
              "       [0., 1., 0., ..., 0., 0., 0.],\n",
              "       [0., 1., 0., ..., 0., 0., 0.]], dtype=float32)"
            ]
          },
          "metadata": {
            "tags": []
          },
          "execution_count": 4
        }
      ]
    },
    {
      "cell_type": "code",
      "metadata": {
        "id": "LycfYD4E9lJl",
        "colab_type": "code",
        "colab": {}
      },
      "source": [
        "#normalizar pixeles\n",
        "train_new = X_train.astype('float32')/255.0\n",
        "test_new = X_test.astype('float32')/255.0"
      ],
      "execution_count": 0,
      "outputs": []
    },
    {
      "cell_type": "markdown",
      "metadata": {
        "id": "-0c8MMNTS4Lm",
        "colab_type": "text"
      },
      "source": [
        "# Experimentación"
      ]
    },
    {
      "cell_type": "code",
      "metadata": {
        "id": "pqMfulrj1ZMZ",
        "colab_type": "code",
        "outputId": "e5c92269-008a-4b33-efff-4ba5c3867f81",
        "colab": {
          "base_uri": "https://localhost:8080/",
          "height": 1000
        }
      },
      "source": [
        "model = Sequential()\n",
        "model.add(Conv2D(32, (3, 3), activation='relu', kernel_initializer='he_uniform', padding='same', input_shape=(32, 32, 3)))\n",
        "model.add(Conv2D(32, (3, 3), activation='relu', kernel_initializer='he_uniform', padding='same'))\n",
        "model.add(MaxPooling2D((2, 2)))\n",
        "model.add(Conv2D(64, (3, 3), activation='relu', kernel_initializer='he_uniform', padding='same'))\n",
        "model.add(Conv2D(64, (3, 3), activation='relu', kernel_initializer='he_uniform', padding='same'))\n",
        "model.add(MaxPooling2D((2, 2)))\n",
        "model.add(Conv2D(128, (3, 3), activation='relu', kernel_initializer='he_uniform', padding='same'))\n",
        "model.add(Conv2D(128, (3, 3), activation='relu', kernel_initializer='he_uniform', padding='same'))\n",
        "model.add(MaxPooling2D((2, 2)))\n",
        "model.add(Flatten())\n",
        "model.add(Dense(128, activation='relu', kernel_initializer='he_uniform'))\n",
        "model.add(Dense(10, activation='softmax'))\n",
        "optimizador = optimizers.SGD(lr=0.001, momentum=0.9)\n",
        "model.compile(optimizer=optimizador, loss='categorical_crossentropy', metrics=['accuracy'])\n",
        "model.fit(train_new, train_label, epochs=100,batch_size=64,verbose=1,validation_split=0.4)\n",
        "_, accuracy = model.evaluate(train_new,train_label,verbose=1)\n",
        "print('accuracy es: ',(accuracy*100.0))"
      ],
      "execution_count": 6,
      "outputs": [
        {
          "output_type": "stream",
          "text": [
            "WARNING:tensorflow:From /usr/local/lib/python3.6/dist-packages/keras/backend/tensorflow_backend.py:66: The name tf.get_default_graph is deprecated. Please use tf.compat.v1.get_default_graph instead.\n",
            "\n",
            "WARNING:tensorflow:From /usr/local/lib/python3.6/dist-packages/keras/backend/tensorflow_backend.py:541: The name tf.placeholder is deprecated. Please use tf.compat.v1.placeholder instead.\n",
            "\n",
            "WARNING:tensorflow:From /usr/local/lib/python3.6/dist-packages/keras/backend/tensorflow_backend.py:4432: The name tf.random_uniform is deprecated. Please use tf.random.uniform instead.\n",
            "\n",
            "WARNING:tensorflow:From /usr/local/lib/python3.6/dist-packages/keras/backend/tensorflow_backend.py:4267: The name tf.nn.max_pool is deprecated. Please use tf.nn.max_pool2d instead.\n",
            "\n",
            "WARNING:tensorflow:From /usr/local/lib/python3.6/dist-packages/keras/optimizers.py:793: The name tf.train.Optimizer is deprecated. Please use tf.compat.v1.train.Optimizer instead.\n",
            "\n",
            "WARNING:tensorflow:From /usr/local/lib/python3.6/dist-packages/keras/backend/tensorflow_backend.py:3576: The name tf.log is deprecated. Please use tf.math.log instead.\n",
            "\n",
            "WARNING:tensorflow:From /usr/local/lib/python3.6/dist-packages/tensorflow/python/ops/math_grad.py:1250: add_dispatch_support.<locals>.wrapper (from tensorflow.python.ops.array_ops) is deprecated and will be removed in a future version.\n",
            "Instructions for updating:\n",
            "Use tf.where in 2.0, which has the same broadcast rule as np.where\n",
            "WARNING:tensorflow:From /usr/local/lib/python3.6/dist-packages/keras/backend/tensorflow_backend.py:1033: The name tf.assign_add is deprecated. Please use tf.compat.v1.assign_add instead.\n",
            "\n",
            "Train on 30000 samples, validate on 20000 samples\n",
            "Epoch 1/100\n",
            "30000/30000 [==============================] - 19s 630us/step - loss: 1.8839 - acc: 0.3231 - val_loss: 1.6105 - val_acc: 0.4240\n",
            "Epoch 2/100\n",
            "30000/30000 [==============================] - 12s 385us/step - loss: 1.5073 - acc: 0.4588 - val_loss: 1.4902 - val_acc: 0.4506\n",
            "Epoch 3/100\n",
            "30000/30000 [==============================] - 12s 385us/step - loss: 1.3585 - acc: 0.5099 - val_loss: 1.3271 - val_acc: 0.5269\n",
            "Epoch 4/100\n",
            "30000/30000 [==============================] - 11s 379us/step - loss: 1.2323 - acc: 0.5600 - val_loss: 1.2381 - val_acc: 0.5592\n",
            "Epoch 5/100\n",
            "30000/30000 [==============================] - 11s 380us/step - loss: 1.1282 - acc: 0.5962 - val_loss: 1.1841 - val_acc: 0.5810\n",
            "Epoch 6/100\n",
            "30000/30000 [==============================] - 11s 377us/step - loss: 1.0498 - acc: 0.6288 - val_loss: 1.0849 - val_acc: 0.6213\n",
            "Epoch 7/100\n",
            "30000/30000 [==============================] - 11s 378us/step - loss: 0.9645 - acc: 0.6637 - val_loss: 1.0674 - val_acc: 0.6260\n",
            "Epoch 8/100\n",
            "30000/30000 [==============================] - 11s 382us/step - loss: 0.8964 - acc: 0.6879 - val_loss: 1.0614 - val_acc: 0.6279\n",
            "Epoch 9/100\n",
            "30000/30000 [==============================] - 11s 380us/step - loss: 0.8385 - acc: 0.7079 - val_loss: 1.0251 - val_acc: 0.6474\n",
            "Epoch 10/100\n",
            "30000/30000 [==============================] - 11s 381us/step - loss: 0.7730 - acc: 0.7320 - val_loss: 0.9911 - val_acc: 0.6605\n",
            "Epoch 11/100\n",
            "30000/30000 [==============================] - 11s 380us/step - loss: 0.7146 - acc: 0.7554 - val_loss: 0.9871 - val_acc: 0.6677\n",
            "Epoch 12/100\n",
            "30000/30000 [==============================] - 11s 381us/step - loss: 0.6650 - acc: 0.7703 - val_loss: 1.0223 - val_acc: 0.6597\n",
            "Epoch 13/100\n",
            "30000/30000 [==============================] - 11s 381us/step - loss: 0.6061 - acc: 0.7883 - val_loss: 1.0336 - val_acc: 0.6655\n",
            "Epoch 14/100\n",
            "30000/30000 [==============================] - 11s 382us/step - loss: 0.5527 - acc: 0.8102 - val_loss: 1.0218 - val_acc: 0.6653\n",
            "Epoch 15/100\n",
            "30000/30000 [==============================] - 11s 379us/step - loss: 0.5026 - acc: 0.8251 - val_loss: 1.0481 - val_acc: 0.6735\n",
            "Epoch 16/100\n",
            "30000/30000 [==============================] - 11s 379us/step - loss: 0.4553 - acc: 0.8444 - val_loss: 1.0257 - val_acc: 0.6786\n",
            "Epoch 17/100\n",
            "30000/30000 [==============================] - 11s 380us/step - loss: 0.4052 - acc: 0.8605 - val_loss: 1.1660 - val_acc: 0.6622\n",
            "Epoch 18/100\n",
            "30000/30000 [==============================] - 11s 381us/step - loss: 0.3602 - acc: 0.8770 - val_loss: 1.1671 - val_acc: 0.6652\n",
            "Epoch 19/100\n",
            "30000/30000 [==============================] - 11s 379us/step - loss: 0.3058 - acc: 0.8958 - val_loss: 1.1564 - val_acc: 0.6773\n",
            "Epoch 20/100\n",
            "30000/30000 [==============================] - 11s 379us/step - loss: 0.2595 - acc: 0.9117 - val_loss: 1.3043 - val_acc: 0.6732\n",
            "Epoch 21/100\n",
            "30000/30000 [==============================] - 11s 381us/step - loss: 0.2259 - acc: 0.9225 - val_loss: 1.3625 - val_acc: 0.6623\n",
            "Epoch 22/100\n",
            "30000/30000 [==============================] - 11s 381us/step - loss: 0.1894 - acc: 0.9355 - val_loss: 1.3140 - val_acc: 0.6768\n",
            "Epoch 23/100\n",
            "30000/30000 [==============================] - 11s 383us/step - loss: 0.1599 - acc: 0.9474 - val_loss: 1.4111 - val_acc: 0.6786\n",
            "Epoch 24/100\n",
            "30000/30000 [==============================] - 11s 382us/step - loss: 0.1260 - acc: 0.9572 - val_loss: 1.4669 - val_acc: 0.6766\n",
            "Epoch 25/100\n",
            "30000/30000 [==============================] - 11s 379us/step - loss: 0.1130 - acc: 0.9617 - val_loss: 1.6173 - val_acc: 0.6684\n",
            "Epoch 26/100\n",
            "30000/30000 [==============================] - 12s 410us/step - loss: 0.1108 - acc: 0.9625 - val_loss: 1.6177 - val_acc: 0.6767\n",
            "Epoch 27/100\n",
            "30000/30000 [==============================] - 11s 381us/step - loss: 0.1033 - acc: 0.9645 - val_loss: 1.7293 - val_acc: 0.6661\n",
            "Epoch 28/100\n",
            "30000/30000 [==============================] - 11s 383us/step - loss: 0.0680 - acc: 0.9781 - val_loss: 1.7253 - val_acc: 0.6786\n",
            "Epoch 29/100\n",
            "30000/30000 [==============================] - 12s 386us/step - loss: 0.0517 - acc: 0.9847 - val_loss: 1.8636 - val_acc: 0.6725\n",
            "Epoch 30/100\n",
            "30000/30000 [==============================] - 12s 387us/step - loss: 0.0584 - acc: 0.9810 - val_loss: 1.8767 - val_acc: 0.6774\n",
            "Epoch 31/100\n",
            "30000/30000 [==============================] - 12s 387us/step - loss: 0.0447 - acc: 0.9860 - val_loss: 2.0029 - val_acc: 0.6798\n",
            "Epoch 32/100\n",
            "30000/30000 [==============================] - 12s 384us/step - loss: 0.0228 - acc: 0.9942 - val_loss: 1.9862 - val_acc: 0.6834\n",
            "Epoch 33/100\n",
            "30000/30000 [==============================] - 12s 385us/step - loss: 0.0154 - acc: 0.9964 - val_loss: 2.0287 - val_acc: 0.6885\n",
            "Epoch 34/100\n",
            "30000/30000 [==============================] - 12s 386us/step - loss: 0.0032 - acc: 0.9999 - val_loss: 2.0807 - val_acc: 0.6910\n",
            "Epoch 35/100\n",
            "30000/30000 [==============================] - 12s 385us/step - loss: 0.0014 - acc: 1.0000 - val_loss: 2.1240 - val_acc: 0.6942\n",
            "Epoch 36/100\n",
            "30000/30000 [==============================] - 12s 386us/step - loss: 0.0010 - acc: 1.0000 - val_loss: 2.1595 - val_acc: 0.6956\n",
            "Epoch 37/100\n",
            "30000/30000 [==============================] - 12s 387us/step - loss: 8.3512e-04 - acc: 1.0000 - val_loss: 2.1825 - val_acc: 0.6962\n",
            "Epoch 38/100\n",
            "30000/30000 [==============================] - 12s 385us/step - loss: 7.3328e-04 - acc: 1.0000 - val_loss: 2.2049 - val_acc: 0.6964\n",
            "Epoch 39/100\n",
            "30000/30000 [==============================] - 12s 387us/step - loss: 6.4492e-04 - acc: 1.0000 - val_loss: 2.2251 - val_acc: 0.6966\n",
            "Epoch 40/100\n",
            "30000/30000 [==============================] - 12s 385us/step - loss: 5.8487e-04 - acc: 1.0000 - val_loss: 2.2406 - val_acc: 0.6965\n",
            "Epoch 41/100\n",
            "30000/30000 [==============================] - 12s 384us/step - loss: 5.3642e-04 - acc: 1.0000 - val_loss: 2.2571 - val_acc: 0.6966\n",
            "Epoch 42/100\n",
            "30000/30000 [==============================] - 12s 385us/step - loss: 4.9373e-04 - acc: 1.0000 - val_loss: 2.2698 - val_acc: 0.6965\n",
            "Epoch 43/100\n",
            "30000/30000 [==============================] - 12s 385us/step - loss: 4.5870e-04 - acc: 1.0000 - val_loss: 2.2827 - val_acc: 0.6964\n",
            "Epoch 44/100\n",
            "30000/30000 [==============================] - 12s 385us/step - loss: 4.2997e-04 - acc: 1.0000 - val_loss: 2.2943 - val_acc: 0.6965\n",
            "Epoch 45/100\n",
            "30000/30000 [==============================] - 12s 384us/step - loss: 4.0344e-04 - acc: 1.0000 - val_loss: 2.3047 - val_acc: 0.6966\n",
            "Epoch 46/100\n",
            "30000/30000 [==============================] - 12s 388us/step - loss: 3.7991e-04 - acc: 1.0000 - val_loss: 2.3151 - val_acc: 0.6964\n",
            "Epoch 47/100\n",
            "30000/30000 [==============================] - 12s 390us/step - loss: 3.6088e-04 - acc: 1.0000 - val_loss: 2.3241 - val_acc: 0.6967\n",
            "Epoch 48/100\n",
            "30000/30000 [==============================] - 11s 383us/step - loss: 3.4283e-04 - acc: 1.0000 - val_loss: 2.3333 - val_acc: 0.6965\n",
            "Epoch 49/100\n",
            "30000/30000 [==============================] - 12s 385us/step - loss: 3.2662e-04 - acc: 1.0000 - val_loss: 2.3416 - val_acc: 0.6966\n",
            "Epoch 50/100\n",
            "30000/30000 [==============================] - 12s 390us/step - loss: 3.1137e-04 - acc: 1.0000 - val_loss: 2.3485 - val_acc: 0.6968\n",
            "Epoch 51/100\n",
            "30000/30000 [==============================] - 12s 388us/step - loss: 2.9818e-04 - acc: 1.0000 - val_loss: 2.3553 - val_acc: 0.6969\n",
            "Epoch 52/100\n",
            "30000/30000 [==============================] - 12s 388us/step - loss: 2.8670e-04 - acc: 1.0000 - val_loss: 2.3631 - val_acc: 0.6966\n",
            "Epoch 53/100\n",
            "30000/30000 [==============================] - 12s 389us/step - loss: 2.7460e-04 - acc: 1.0000 - val_loss: 2.3706 - val_acc: 0.6965\n",
            "Epoch 54/100\n",
            "30000/30000 [==============================] - 11s 382us/step - loss: 2.6403e-04 - acc: 1.0000 - val_loss: 2.3762 - val_acc: 0.6968\n",
            "Epoch 55/100\n",
            "30000/30000 [==============================] - 12s 387us/step - loss: 2.5466e-04 - acc: 1.0000 - val_loss: 2.3828 - val_acc: 0.6969\n",
            "Epoch 56/100\n",
            "30000/30000 [==============================] - 12s 389us/step - loss: 2.4533e-04 - acc: 1.0000 - val_loss: 2.3886 - val_acc: 0.6968\n",
            "Epoch 57/100\n",
            "30000/30000 [==============================] - 12s 388us/step - loss: 2.3683e-04 - acc: 1.0000 - val_loss: 2.3944 - val_acc: 0.6967\n",
            "Epoch 58/100\n",
            "30000/30000 [==============================] - 12s 386us/step - loss: 2.2970e-04 - acc: 1.0000 - val_loss: 2.4009 - val_acc: 0.6968\n",
            "Epoch 59/100\n",
            "30000/30000 [==============================] - 12s 385us/step - loss: 2.2216e-04 - acc: 1.0000 - val_loss: 2.4062 - val_acc: 0.6966\n",
            "Epoch 60/100\n",
            "30000/30000 [==============================] - 11s 382us/step - loss: 2.1530e-04 - acc: 1.0000 - val_loss: 2.4108 - val_acc: 0.6968\n",
            "Epoch 61/100\n",
            "30000/30000 [==============================] - 12s 385us/step - loss: 2.0880e-04 - acc: 1.0000 - val_loss: 2.4160 - val_acc: 0.6968\n",
            "Epoch 62/100\n",
            "30000/30000 [==============================] - 12s 388us/step - loss: 2.0289e-04 - acc: 1.0000 - val_loss: 2.4211 - val_acc: 0.6967\n",
            "Epoch 63/100\n",
            "30000/30000 [==============================] - 12s 391us/step - loss: 1.9693e-04 - acc: 1.0000 - val_loss: 2.4260 - val_acc: 0.6967\n",
            "Epoch 64/100\n",
            "30000/30000 [==============================] - 12s 386us/step - loss: 1.9199e-04 - acc: 1.0000 - val_loss: 2.4307 - val_acc: 0.6966\n",
            "Epoch 65/100\n",
            "30000/30000 [==============================] - 12s 386us/step - loss: 1.8673e-04 - acc: 1.0000 - val_loss: 2.4346 - val_acc: 0.6968\n",
            "Epoch 66/100\n",
            "30000/30000 [==============================] - 12s 387us/step - loss: 1.8179e-04 - acc: 1.0000 - val_loss: 2.4389 - val_acc: 0.6969\n",
            "Epoch 67/100\n",
            "30000/30000 [==============================] - 12s 387us/step - loss: 1.7709e-04 - acc: 1.0000 - val_loss: 2.4433 - val_acc: 0.6965\n",
            "Epoch 68/100\n",
            "30000/30000 [==============================] - 12s 386us/step - loss: 1.7283e-04 - acc: 1.0000 - val_loss: 2.4475 - val_acc: 0.6969\n",
            "Epoch 69/100\n",
            "30000/30000 [==============================] - 11s 380us/step - loss: 1.6832e-04 - acc: 1.0000 - val_loss: 2.4514 - val_acc: 0.6973\n",
            "Epoch 70/100\n",
            "30000/30000 [==============================] - 11s 382us/step - loss: 1.6452e-04 - acc: 1.0000 - val_loss: 2.4555 - val_acc: 0.6972\n",
            "Epoch 71/100\n",
            "30000/30000 [==============================] - 12s 385us/step - loss: 1.6089e-04 - acc: 1.0000 - val_loss: 2.4590 - val_acc: 0.6969\n",
            "Epoch 72/100\n",
            "30000/30000 [==============================] - 12s 387us/step - loss: 1.5692e-04 - acc: 1.0000 - val_loss: 2.4631 - val_acc: 0.6971\n",
            "Epoch 73/100\n",
            "30000/30000 [==============================] - 12s 384us/step - loss: 1.5369e-04 - acc: 1.0000 - val_loss: 2.4664 - val_acc: 0.6966\n",
            "Epoch 74/100\n",
            "30000/30000 [==============================] - 12s 386us/step - loss: 1.5046e-04 - acc: 1.0000 - val_loss: 2.4701 - val_acc: 0.6970\n",
            "Epoch 75/100\n",
            "30000/30000 [==============================] - 12s 385us/step - loss: 1.4715e-04 - acc: 1.0000 - val_loss: 2.4737 - val_acc: 0.6972\n",
            "Epoch 76/100\n",
            "30000/30000 [==============================] - 12s 384us/step - loss: 1.4399e-04 - acc: 1.0000 - val_loss: 2.4778 - val_acc: 0.6972\n",
            "Epoch 77/100\n",
            "30000/30000 [==============================] - 12s 392us/step - loss: 1.4098e-04 - acc: 1.0000 - val_loss: 2.4808 - val_acc: 0.6974\n",
            "Epoch 78/100\n",
            "30000/30000 [==============================] - 12s 384us/step - loss: 1.3834e-04 - acc: 1.0000 - val_loss: 2.4846 - val_acc: 0.6973\n",
            "Epoch 79/100\n",
            "30000/30000 [==============================] - 12s 387us/step - loss: 1.3565e-04 - acc: 1.0000 - val_loss: 2.4871 - val_acc: 0.6970\n",
            "Epoch 80/100\n",
            "30000/30000 [==============================] - 12s 386us/step - loss: 1.3302e-04 - acc: 1.0000 - val_loss: 2.4907 - val_acc: 0.6974\n",
            "Epoch 81/100\n",
            "30000/30000 [==============================] - 12s 384us/step - loss: 1.3045e-04 - acc: 1.0000 - val_loss: 2.4936 - val_acc: 0.6974\n",
            "Epoch 82/100\n",
            "30000/30000 [==============================] - 12s 387us/step - loss: 1.2793e-04 - acc: 1.0000 - val_loss: 2.4967 - val_acc: 0.6970\n",
            "Epoch 83/100\n",
            "30000/30000 [==============================] - 12s 386us/step - loss: 1.2576e-04 - acc: 1.0000 - val_loss: 2.5000 - val_acc: 0.6968\n",
            "Epoch 84/100\n",
            "30000/30000 [==============================] - 12s 384us/step - loss: 1.2344e-04 - acc: 1.0000 - val_loss: 2.5029 - val_acc: 0.6969\n",
            "Epoch 85/100\n",
            "30000/30000 [==============================] - 12s 385us/step - loss: 1.2118e-04 - acc: 1.0000 - val_loss: 2.5058 - val_acc: 0.6974\n",
            "Epoch 86/100\n",
            "30000/30000 [==============================] - 12s 386us/step - loss: 1.1922e-04 - acc: 1.0000 - val_loss: 2.5086 - val_acc: 0.6970\n",
            "Epoch 87/100\n",
            "30000/30000 [==============================] - 11s 383us/step - loss: 1.1720e-04 - acc: 1.0000 - val_loss: 2.5111 - val_acc: 0.6966\n",
            "Epoch 88/100\n",
            "30000/30000 [==============================] - 12s 387us/step - loss: 1.1510e-04 - acc: 1.0000 - val_loss: 2.5140 - val_acc: 0.6970\n",
            "Epoch 89/100\n",
            "30000/30000 [==============================] - 12s 387us/step - loss: 1.1331e-04 - acc: 1.0000 - val_loss: 2.5166 - val_acc: 0.6971\n",
            "Epoch 90/100\n",
            "30000/30000 [==============================] - 11s 382us/step - loss: 1.1138e-04 - acc: 1.0000 - val_loss: 2.5193 - val_acc: 0.6973\n",
            "Epoch 91/100\n",
            "30000/30000 [==============================] - 12s 387us/step - loss: 1.0958e-04 - acc: 1.0000 - val_loss: 2.5215 - val_acc: 0.6972\n",
            "Epoch 92/100\n",
            "30000/30000 [==============================] - 12s 387us/step - loss: 1.0778e-04 - acc: 1.0000 - val_loss: 2.5248 - val_acc: 0.6972\n",
            "Epoch 93/100\n",
            "30000/30000 [==============================] - 12s 385us/step - loss: 1.0623e-04 - acc: 1.0000 - val_loss: 2.5274 - val_acc: 0.6969\n",
            "Epoch 94/100\n",
            "30000/30000 [==============================] - 12s 387us/step - loss: 1.0463e-04 - acc: 1.0000 - val_loss: 2.5296 - val_acc: 0.6972\n",
            "Epoch 95/100\n",
            "30000/30000 [==============================] - 12s 385us/step - loss: 1.0303e-04 - acc: 1.0000 - val_loss: 2.5322 - val_acc: 0.6968\n",
            "Epoch 96/100\n",
            "30000/30000 [==============================] - 12s 384us/step - loss: 1.0152e-04 - acc: 1.0000 - val_loss: 2.5347 - val_acc: 0.6966\n",
            "Epoch 97/100\n",
            "30000/30000 [==============================] - 11s 383us/step - loss: 9.9928e-05 - acc: 1.0000 - val_loss: 2.5368 - val_acc: 0.6968\n",
            "Epoch 98/100\n",
            "30000/30000 [==============================] - 12s 388us/step - loss: 9.8602e-05 - acc: 1.0000 - val_loss: 2.5394 - val_acc: 0.6967\n",
            "Epoch 99/100\n",
            "30000/30000 [==============================] - 12s 385us/step - loss: 9.7029e-05 - acc: 1.0000 - val_loss: 2.5415 - val_acc: 0.6973\n",
            "Epoch 100/100\n",
            "30000/30000 [==============================] - 12s 384us/step - loss: 9.5732e-05 - acc: 1.0000 - val_loss: 2.5434 - val_acc: 0.6969\n",
            "50000/50000 [==============================] - 9s 173us/step\n",
            "accuracy es:  87.878\n"
          ],
          "name": "stdout"
        }
      ]
    },
    {
      "cell_type": "code",
      "metadata": {
        "id": "3h158d7C2CTa",
        "colab_type": "code",
        "colab": {
          "base_uri": "https://localhost:8080/",
          "height": 34
        },
        "outputId": "a2b7497f-46f2-4d62-a15c-1c162b165f7b"
      },
      "source": [
        "model.evaluate(train_new,train_label,verbose=0)"
      ],
      "execution_count": 12,
      "outputs": [
        {
          "output_type": "execute_result",
          "data": {
            "text/plain": [
              "[1.01741222224897, 0.87878]"
            ]
          },
          "metadata": {
            "tags": []
          },
          "execution_count": 12
        }
      ]
    },
    {
      "cell_type": "code",
      "metadata": {
        "id": "R6u4dA-MMapp",
        "colab_type": "code",
        "colab": {
          "base_uri": "https://localhost:8080/",
          "height": 34
        },
        "outputId": "3dde0b47-df5d-400e-afd2-ece9b6417744"
      },
      "source": [
        "model.evaluate(test_new,test_label,verbose=0)"
      ],
      "execution_count": 13,
      "outputs": [
        {
          "output_type": "execute_result",
          "data": {
            "text/plain": [
              "[2.6909587539672852, 0.6882]"
            ]
          },
          "metadata": {
            "tags": []
          },
          "execution_count": 13
        }
      ]
    },
    {
      "cell_type": "markdown",
      "metadata": {
        "id": "q54Yc4QsNXWp",
        "colab_type": "text"
      },
      "source": [
        "Dados los valores de model.evalute, se puede observar que hay presencia de overfitting (0.87 -train accuracy- vs 0.68 -test accuracy-. El siguiente paso consiste en aplicar regularización (dropout) para atacar dicho problema y evaluar de nuevo la métrica. "
      ]
    },
    {
      "cell_type": "code",
      "metadata": {
        "id": "KbqoLNogNUUf",
        "colab_type": "code",
        "colab": {}
      },
      "source": [
        "def dropout(verb):\n",
        "  model = Sequential()\n",
        "  model.add(Conv2D(32, (3, 3), activation='relu', kernel_initializer='he_uniform', padding='same', input_shape=(32, 32, 3)))\n",
        "  model.add(Conv2D(32, (3, 3), activation='relu', kernel_initializer='he_uniform', padding='same'))\n",
        "  model.add(MaxPooling2D((2, 2)))\n",
        "  model.add(Dropout(0.25))\n",
        "  model.add(Conv2D(64, (3, 3), activation='relu', kernel_initializer='he_uniform', padding='same'))\n",
        "  model.add(Conv2D(64, (3, 3), activation='relu', kernel_initializer='he_uniform', padding='same'))\n",
        "  model.add(MaxPooling2D((2, 2)))\n",
        "  model.add(Dropout(0.25))\n",
        "  model.add(Conv2D(128, (3, 3), activation='relu', kernel_initializer='he_uniform', padding='same'))\n",
        "  model.add(Conv2D(128, (3, 3), activation='relu', kernel_initializer='he_uniform', padding='same'))\n",
        "  model.add(MaxPooling2D((2, 2)))\n",
        "  model.add(Dropout(0.25))\n",
        "  model.add(Flatten())\n",
        "  model.add(Dense(128, activation='relu', kernel_initializer='he_uniform'))\n",
        "  model.add(Dropout(0.5))\n",
        "  model.add(Dense(10, activation='softmax'))\n",
        "  optimizador = optimizers.SGD(lr=0.001, momentum=0.9)\n",
        "  model.compile(optimizer=optimizador, loss='categorical_crossentropy', metrics=['accuracy'])\n",
        "  model.fit(train_new, train_label, epochs=100,batch_size=64,verbose=1,validation_split=0.4)\n",
        "  _, accuracy = model.evaluate(train_new,train_label,verbose=verb)\n",
        "  c,accuracy_test = model.evaluate(test_new,test_label,verbose=verb)\n",
        "  return [accuracy,accuracy_test]\n",
        "  "
      ],
      "execution_count": 0,
      "outputs": []
    },
    {
      "cell_type": "code",
      "metadata": {
        "id": "6S4H92tdOjjj",
        "colab_type": "code",
        "colab": {
          "base_uri": "https://localhost:8080/",
          "height": 1000
        },
        "outputId": "a3bcce41-5053-405c-88d2-b73c4f2f76bd"
      },
      "source": [
        "dropout(1)"
      ],
      "execution_count": 26,
      "outputs": [
        {
          "output_type": "stream",
          "text": [
            "Train on 30000 samples, validate on 20000 samples\n",
            "Epoch 1/100\n",
            "30000/30000 [==============================] - 13s 435us/step - loss: 2.2335 - acc: 0.1526 - val_loss: 2.1003 - val_acc: 0.2245\n",
            "Epoch 2/100\n",
            "30000/30000 [==============================] - 12s 406us/step - loss: 2.0244 - acc: 0.2370 - val_loss: 1.8839 - val_acc: 0.3327\n",
            "Epoch 3/100\n",
            "30000/30000 [==============================] - 12s 406us/step - loss: 1.8726 - acc: 0.2902 - val_loss: 1.7401 - val_acc: 0.3633\n",
            "Epoch 4/100\n",
            "30000/30000 [==============================] - 12s 407us/step - loss: 1.7706 - acc: 0.3299 - val_loss: 1.6605 - val_acc: 0.3829\n",
            "Epoch 5/100\n",
            "30000/30000 [==============================] - 12s 407us/step - loss: 1.7023 - acc: 0.3625 - val_loss: 1.6743 - val_acc: 0.3756\n",
            "Epoch 6/100\n",
            "30000/30000 [==============================] - 12s 410us/step - loss: 1.6471 - acc: 0.3863 - val_loss: 1.5401 - val_acc: 0.4361\n",
            "Epoch 7/100\n",
            "30000/30000 [==============================] - 12s 404us/step - loss: 1.6010 - acc: 0.4055 - val_loss: 1.4759 - val_acc: 0.4660\n",
            "Epoch 8/100\n",
            "30000/30000 [==============================] - 12s 401us/step - loss: 1.5458 - acc: 0.4283 - val_loss: 1.4347 - val_acc: 0.4776\n",
            "Epoch 9/100\n",
            "30000/30000 [==============================] - 12s 402us/step - loss: 1.4905 - acc: 0.4516 - val_loss: 1.4336 - val_acc: 0.4807\n",
            "Epoch 10/100\n",
            "30000/30000 [==============================] - 12s 401us/step - loss: 1.4472 - acc: 0.4714 - val_loss: 1.3660 - val_acc: 0.5073\n",
            "Epoch 11/100\n",
            "30000/30000 [==============================] - 12s 403us/step - loss: 1.4074 - acc: 0.4845 - val_loss: 1.3497 - val_acc: 0.5077\n",
            "Epoch 12/100\n",
            "30000/30000 [==============================] - 12s 405us/step - loss: 1.3645 - acc: 0.5031 - val_loss: 1.2769 - val_acc: 0.5358\n",
            "Epoch 13/100\n",
            "30000/30000 [==============================] - 12s 404us/step - loss: 1.3278 - acc: 0.5183 - val_loss: 1.2021 - val_acc: 0.5673\n",
            "Epoch 14/100\n",
            "30000/30000 [==============================] - 12s 406us/step - loss: 1.2911 - acc: 0.5336 - val_loss: 1.2174 - val_acc: 0.5639\n",
            "Epoch 15/100\n",
            "30000/30000 [==============================] - 12s 406us/step - loss: 1.2631 - acc: 0.5451 - val_loss: 1.1838 - val_acc: 0.5772\n",
            "Epoch 16/100\n",
            "30000/30000 [==============================] - 12s 406us/step - loss: 1.2254 - acc: 0.5589 - val_loss: 1.1621 - val_acc: 0.5774\n",
            "Epoch 17/100\n",
            "30000/30000 [==============================] - 12s 407us/step - loss: 1.2025 - acc: 0.5688 - val_loss: 1.0762 - val_acc: 0.6121\n",
            "Epoch 18/100\n",
            "30000/30000 [==============================] - 12s 405us/step - loss: 1.1803 - acc: 0.5759 - val_loss: 1.0878 - val_acc: 0.6157\n",
            "Epoch 19/100\n",
            "30000/30000 [==============================] - 12s 406us/step - loss: 1.1571 - acc: 0.5849 - val_loss: 1.0517 - val_acc: 0.6267\n",
            "Epoch 20/100\n",
            "30000/30000 [==============================] - 12s 406us/step - loss: 1.1422 - acc: 0.5888 - val_loss: 1.0400 - val_acc: 0.6299\n",
            "Epoch 21/100\n",
            "30000/30000 [==============================] - 12s 404us/step - loss: 1.1225 - acc: 0.6001 - val_loss: 1.0201 - val_acc: 0.6327\n",
            "Epoch 22/100\n",
            "30000/30000 [==============================] - 12s 403us/step - loss: 1.1082 - acc: 0.6062 - val_loss: 0.9726 - val_acc: 0.6499\n",
            "Epoch 23/100\n",
            "30000/30000 [==============================] - 12s 403us/step - loss: 1.0861 - acc: 0.6163 - val_loss: 0.9570 - val_acc: 0.6605\n",
            "Epoch 24/100\n",
            "30000/30000 [==============================] - 12s 404us/step - loss: 1.0727 - acc: 0.6181 - val_loss: 0.9837 - val_acc: 0.6470\n",
            "Epoch 25/100\n",
            "30000/30000 [==============================] - 12s 403us/step - loss: 1.0540 - acc: 0.6267 - val_loss: 0.9489 - val_acc: 0.6628\n",
            "Epoch 26/100\n",
            "30000/30000 [==============================] - 12s 403us/step - loss: 1.0347 - acc: 0.6318 - val_loss: 0.9308 - val_acc: 0.6655\n",
            "Epoch 27/100\n",
            "30000/30000 [==============================] - 12s 405us/step - loss: 1.0244 - acc: 0.6348 - val_loss: 0.9153 - val_acc: 0.6780\n",
            "Epoch 28/100\n",
            "30000/30000 [==============================] - 12s 406us/step - loss: 1.0145 - acc: 0.6395 - val_loss: 0.9442 - val_acc: 0.6623\n",
            "Epoch 29/100\n",
            "30000/30000 [==============================] - 12s 407us/step - loss: 1.0032 - acc: 0.6456 - val_loss: 0.8991 - val_acc: 0.6820\n",
            "Epoch 30/100\n",
            "30000/30000 [==============================] - 12s 404us/step - loss: 0.9811 - acc: 0.6528 - val_loss: 0.8919 - val_acc: 0.6792\n",
            "Epoch 31/100\n",
            "30000/30000 [==============================] - 12s 415us/step - loss: 0.9619 - acc: 0.6596 - val_loss: 0.9297 - val_acc: 0.6670\n",
            "Epoch 32/100\n",
            "30000/30000 [==============================] - 12s 405us/step - loss: 0.9566 - acc: 0.6603 - val_loss: 0.8584 - val_acc: 0.6942\n",
            "Epoch 33/100\n",
            "30000/30000 [==============================] - 12s 406us/step - loss: 0.9436 - acc: 0.6668 - val_loss: 0.8579 - val_acc: 0.6941\n",
            "Epoch 34/100\n",
            "30000/30000 [==============================] - 12s 406us/step - loss: 0.9334 - acc: 0.6676 - val_loss: 0.8481 - val_acc: 0.6966\n",
            "Epoch 35/100\n",
            "30000/30000 [==============================] - 12s 407us/step - loss: 0.9251 - acc: 0.6759 - val_loss: 0.8259 - val_acc: 0.7022\n",
            "Epoch 36/100\n",
            "30000/30000 [==============================] - 12s 405us/step - loss: 0.9119 - acc: 0.6778 - val_loss: 0.8174 - val_acc: 0.7085\n",
            "Epoch 37/100\n",
            "30000/30000 [==============================] - 12s 406us/step - loss: 0.8917 - acc: 0.6843 - val_loss: 0.7995 - val_acc: 0.7156\n",
            "Epoch 38/100\n",
            "30000/30000 [==============================] - 12s 404us/step - loss: 0.8929 - acc: 0.6855 - val_loss: 0.8123 - val_acc: 0.7098\n",
            "Epoch 39/100\n",
            "30000/30000 [==============================] - 12s 405us/step - loss: 0.8808 - acc: 0.6898 - val_loss: 0.7946 - val_acc: 0.7178\n",
            "Epoch 40/100\n",
            "30000/30000 [==============================] - 12s 404us/step - loss: 0.8714 - acc: 0.6928 - val_loss: 0.7964 - val_acc: 0.7161\n",
            "Epoch 41/100\n",
            "30000/30000 [==============================] - 12s 405us/step - loss: 0.8593 - acc: 0.6966 - val_loss: 0.7680 - val_acc: 0.7257\n",
            "Epoch 42/100\n",
            "30000/30000 [==============================] - 12s 404us/step - loss: 0.8518 - acc: 0.7006 - val_loss: 0.7742 - val_acc: 0.7246\n",
            "Epoch 43/100\n",
            "30000/30000 [==============================] - 12s 405us/step - loss: 0.8368 - acc: 0.7070 - val_loss: 0.7705 - val_acc: 0.7282\n",
            "Epoch 44/100\n",
            "30000/30000 [==============================] - 12s 405us/step - loss: 0.8386 - acc: 0.7020 - val_loss: 0.7831 - val_acc: 0.7232\n",
            "Epoch 45/100\n",
            "30000/30000 [==============================] - 12s 405us/step - loss: 0.8277 - acc: 0.7099 - val_loss: 0.7859 - val_acc: 0.7218\n",
            "Epoch 46/100\n",
            "30000/30000 [==============================] - 12s 404us/step - loss: 0.8207 - acc: 0.7104 - val_loss: 0.7585 - val_acc: 0.7317\n",
            "Epoch 47/100\n",
            "30000/30000 [==============================] - 12s 403us/step - loss: 0.8137 - acc: 0.7139 - val_loss: 0.7680 - val_acc: 0.7277\n",
            "Epoch 48/100\n",
            "30000/30000 [==============================] - 12s 402us/step - loss: 0.8038 - acc: 0.7159 - val_loss: 0.7440 - val_acc: 0.7378\n",
            "Epoch 49/100\n",
            "30000/30000 [==============================] - 12s 406us/step - loss: 0.7887 - acc: 0.7224 - val_loss: 0.7514 - val_acc: 0.7351\n",
            "Epoch 50/100\n",
            "30000/30000 [==============================] - 12s 405us/step - loss: 0.7847 - acc: 0.7231 - val_loss: 0.7379 - val_acc: 0.7395\n",
            "Epoch 51/100\n",
            "30000/30000 [==============================] - 12s 406us/step - loss: 0.7751 - acc: 0.7297 - val_loss: 0.7830 - val_acc: 0.7246\n",
            "Epoch 52/100\n",
            "30000/30000 [==============================] - 12s 405us/step - loss: 0.7718 - acc: 0.7286 - val_loss: 0.7327 - val_acc: 0.7410\n",
            "Epoch 53/100\n",
            "30000/30000 [==============================] - 12s 405us/step - loss: 0.7695 - acc: 0.7306 - val_loss: 0.7194 - val_acc: 0.7480\n",
            "Epoch 54/100\n",
            "30000/30000 [==============================] - 12s 409us/step - loss: 0.7550 - acc: 0.7360 - val_loss: 0.7330 - val_acc: 0.7433\n",
            "Epoch 55/100\n",
            "30000/30000 [==============================] - 12s 406us/step - loss: 0.7555 - acc: 0.7358 - val_loss: 0.7215 - val_acc: 0.7474\n",
            "Epoch 56/100\n",
            "30000/30000 [==============================] - 12s 409us/step - loss: 0.7368 - acc: 0.7374 - val_loss: 0.7036 - val_acc: 0.7516\n",
            "Epoch 57/100\n",
            "30000/30000 [==============================] - 12s 412us/step - loss: 0.7419 - acc: 0.7389 - val_loss: 0.6946 - val_acc: 0.7549\n",
            "Epoch 58/100\n",
            "30000/30000 [==============================] - 12s 404us/step - loss: 0.7267 - acc: 0.7451 - val_loss: 0.6818 - val_acc: 0.7609\n",
            "Epoch 59/100\n",
            "30000/30000 [==============================] - 12s 405us/step - loss: 0.7245 - acc: 0.7429 - val_loss: 0.7162 - val_acc: 0.7491\n",
            "Epoch 60/100\n",
            "30000/30000 [==============================] - 12s 403us/step - loss: 0.7146 - acc: 0.7510 - val_loss: 0.6986 - val_acc: 0.7519\n",
            "Epoch 61/100\n",
            "30000/30000 [==============================] - 12s 405us/step - loss: 0.7073 - acc: 0.7516 - val_loss: 0.6770 - val_acc: 0.7597\n",
            "Epoch 62/100\n",
            "30000/30000 [==============================] - 12s 405us/step - loss: 0.7006 - acc: 0.7543 - val_loss: 0.6832 - val_acc: 0.7617\n",
            "Epoch 63/100\n",
            "30000/30000 [==============================] - 12s 404us/step - loss: 0.6979 - acc: 0.7576 - val_loss: 0.6715 - val_acc: 0.7652\n",
            "Epoch 64/100\n",
            "30000/30000 [==============================] - 12s 404us/step - loss: 0.6956 - acc: 0.7557 - val_loss: 0.6873 - val_acc: 0.7612\n",
            "Epoch 65/100\n",
            "30000/30000 [==============================] - 12s 403us/step - loss: 0.6918 - acc: 0.7561 - val_loss: 0.6633 - val_acc: 0.7683\n",
            "Epoch 66/100\n",
            "30000/30000 [==============================] - 12s 406us/step - loss: 0.6797 - acc: 0.7599 - val_loss: 0.6943 - val_acc: 0.7560\n",
            "Epoch 67/100\n",
            "30000/30000 [==============================] - 12s 404us/step - loss: 0.6762 - acc: 0.7616 - val_loss: 0.6654 - val_acc: 0.7690\n",
            "Epoch 68/100\n",
            "30000/30000 [==============================] - 12s 404us/step - loss: 0.6793 - acc: 0.7633 - val_loss: 0.6752 - val_acc: 0.7635\n",
            "Epoch 69/100\n",
            "30000/30000 [==============================] - 12s 405us/step - loss: 0.6658 - acc: 0.7659 - val_loss: 0.6504 - val_acc: 0.7730\n",
            "Epoch 70/100\n",
            "30000/30000 [==============================] - 12s 406us/step - loss: 0.6623 - acc: 0.7668 - val_loss: 0.6602 - val_acc: 0.7724\n",
            "Epoch 71/100\n",
            "30000/30000 [==============================] - 12s 407us/step - loss: 0.6543 - acc: 0.7678 - val_loss: 0.6516 - val_acc: 0.7705\n",
            "Epoch 72/100\n",
            "30000/30000 [==============================] - 12s 405us/step - loss: 0.6406 - acc: 0.7761 - val_loss: 0.6446 - val_acc: 0.7760\n",
            "Epoch 73/100\n",
            "30000/30000 [==============================] - 12s 403us/step - loss: 0.6405 - acc: 0.7748 - val_loss: 0.6678 - val_acc: 0.7707\n",
            "Epoch 74/100\n",
            "30000/30000 [==============================] - 12s 406us/step - loss: 0.6398 - acc: 0.7770 - val_loss: 0.6477 - val_acc: 0.7745\n",
            "Epoch 75/100\n",
            "30000/30000 [==============================] - 12s 408us/step - loss: 0.6287 - acc: 0.7797 - val_loss: 0.6482 - val_acc: 0.7740\n",
            "Epoch 76/100\n",
            "30000/30000 [==============================] - 12s 406us/step - loss: 0.6291 - acc: 0.7807 - val_loss: 0.6344 - val_acc: 0.7790\n",
            "Epoch 77/100\n",
            "30000/30000 [==============================] - 12s 403us/step - loss: 0.6179 - acc: 0.7802 - val_loss: 0.6453 - val_acc: 0.7741\n",
            "Epoch 78/100\n",
            "30000/30000 [==============================] - 12s 406us/step - loss: 0.6173 - acc: 0.7833 - val_loss: 0.6239 - val_acc: 0.7835\n",
            "Epoch 79/100\n",
            "30000/30000 [==============================] - 12s 407us/step - loss: 0.6163 - acc: 0.7831 - val_loss: 0.6192 - val_acc: 0.7845\n",
            "Epoch 80/100\n",
            "30000/30000 [==============================] - 12s 405us/step - loss: 0.6102 - acc: 0.7859 - val_loss: 0.6460 - val_acc: 0.7767\n",
            "Epoch 81/100\n",
            "30000/30000 [==============================] - 12s 409us/step - loss: 0.6074 - acc: 0.7860 - val_loss: 0.6216 - val_acc: 0.7851\n",
            "Epoch 82/100\n",
            "30000/30000 [==============================] - 12s 411us/step - loss: 0.5982 - acc: 0.7877 - val_loss: 0.6338 - val_acc: 0.7802\n",
            "Epoch 83/100\n",
            "30000/30000 [==============================] - 12s 408us/step - loss: 0.5949 - acc: 0.7886 - val_loss: 0.6271 - val_acc: 0.7835\n",
            "Epoch 84/100\n",
            "30000/30000 [==============================] - 12s 405us/step - loss: 0.5915 - acc: 0.7925 - val_loss: 0.6356 - val_acc: 0.7827\n",
            "Epoch 85/100\n",
            "30000/30000 [==============================] - 12s 407us/step - loss: 0.5866 - acc: 0.7925 - val_loss: 0.6143 - val_acc: 0.7891\n",
            "Epoch 86/100\n",
            "30000/30000 [==============================] - 12s 407us/step - loss: 0.5847 - acc: 0.7960 - val_loss: 0.6204 - val_acc: 0.7880\n",
            "Epoch 87/100\n",
            "30000/30000 [==============================] - 12s 406us/step - loss: 0.5766 - acc: 0.7967 - val_loss: 0.6034 - val_acc: 0.7910\n",
            "Epoch 88/100\n",
            "30000/30000 [==============================] - 12s 407us/step - loss: 0.5700 - acc: 0.7985 - val_loss: 0.6331 - val_acc: 0.7843\n",
            "Epoch 89/100\n",
            "30000/30000 [==============================] - 12s 406us/step - loss: 0.5649 - acc: 0.8011 - val_loss: 0.6062 - val_acc: 0.7916\n",
            "Epoch 90/100\n",
            "30000/30000 [==============================] - 12s 405us/step - loss: 0.5641 - acc: 0.8013 - val_loss: 0.6402 - val_acc: 0.7804\n",
            "Epoch 91/100\n",
            "30000/30000 [==============================] - 12s 404us/step - loss: 0.5613 - acc: 0.8010 - val_loss: 0.6180 - val_acc: 0.7873\n",
            "Epoch 92/100\n",
            "30000/30000 [==============================] - 12s 405us/step - loss: 0.5519 - acc: 0.8045 - val_loss: 0.6079 - val_acc: 0.7917\n",
            "Epoch 93/100\n",
            "30000/30000 [==============================] - 12s 404us/step - loss: 0.5507 - acc: 0.8071 - val_loss: 0.6433 - val_acc: 0.7814\n",
            "Epoch 94/100\n",
            "30000/30000 [==============================] - 12s 403us/step - loss: 0.5487 - acc: 0.8041 - val_loss: 0.6103 - val_acc: 0.7909\n",
            "Epoch 95/100\n",
            "30000/30000 [==============================] - 12s 406us/step - loss: 0.5401 - acc: 0.8066 - val_loss: 0.5961 - val_acc: 0.7959\n",
            "Epoch 96/100\n",
            "30000/30000 [==============================] - 12s 405us/step - loss: 0.5411 - acc: 0.8081 - val_loss: 0.6088 - val_acc: 0.7943\n",
            "Epoch 97/100\n",
            "30000/30000 [==============================] - 12s 405us/step - loss: 0.5316 - acc: 0.8121 - val_loss: 0.5991 - val_acc: 0.7937\n",
            "Epoch 98/100\n",
            "30000/30000 [==============================] - 12s 405us/step - loss: 0.5342 - acc: 0.8119 - val_loss: 0.6302 - val_acc: 0.7864\n",
            "Epoch 99/100\n",
            "30000/30000 [==============================] - 12s 405us/step - loss: 0.5332 - acc: 0.8101 - val_loss: 0.5990 - val_acc: 0.7971\n",
            "Epoch 100/100\n",
            "30000/30000 [==============================] - 12s 406us/step - loss: 0.5190 - acc: 0.8154 - val_loss: 0.5992 - val_acc: 0.7980\n",
            "50000/50000 [==============================] - 9s 175us/step\n",
            "10000/10000 [==============================] - 2s 194us/step\n"
          ],
          "name": "stdout"
        },
        {
          "output_type": "execute_result",
          "data": {
            "text/plain": [
              "[0.8577, 0.7938]"
            ]
          },
          "metadata": {
            "tags": []
          },
          "execution_count": 26
        }
      ]
    },
    {
      "cell_type": "markdown",
      "metadata": {
        "id": "OAIvV52NcC73",
        "colab_type": "text"
      },
      "source": [
        "Aplicando dropout, el gap entre los accuracy disminuyó (0.85 vs 0.79), lo cual es bueno para el modelo ya que se redujo overfitting. "
      ]
    },
    {
      "cell_type": "markdown",
      "metadata": {
        "id": "Qb9a52pOcdZj",
        "colab_type": "text"
      },
      "source": [
        "En aras de mejorar la métrica, ahora se utiliza GD con Nesterov y 150 epochs. "
      ]
    },
    {
      "cell_type": "code",
      "metadata": {
        "id": "tugd3GolOsiQ",
        "colab_type": "code",
        "colab": {}
      },
      "source": [
        "def dropout2(epoch):\n",
        "  model = Sequential()\n",
        "  model.add(Conv2D(32, (3, 3), activation='relu', kernel_initializer='he_uniform', padding='same', input_shape=(32, 32, 3)))\n",
        "  model.add(Conv2D(32, (3, 3), activation='relu', kernel_initializer='he_uniform', padding='same'))\n",
        "  model.add(MaxPooling2D((2, 2)))\n",
        "  model.add(Dropout(0.25))\n",
        "  model.add(Conv2D(64, (3, 3), activation='relu', kernel_initializer='he_uniform', padding='same'))\n",
        "  model.add(Conv2D(64, (3, 3), activation='relu', kernel_initializer='he_uniform', padding='same'))\n",
        "  model.add(MaxPooling2D((2, 2)))\n",
        "  model.add(Dropout(0.25))\n",
        "  model.add(Conv2D(128, (3, 3), activation='relu', kernel_initializer='he_uniform', padding='same'))\n",
        "  model.add(Conv2D(128, (3, 3), activation='relu', kernel_initializer='he_uniform', padding='same'))\n",
        "  model.add(MaxPooling2D((2, 2)))\n",
        "  model.add(Dropout(0.25))\n",
        "  model.add(Flatten())\n",
        "  model.add(Dense(128, activation='relu', kernel_initializer='he_uniform'))\n",
        "  model.add(Dropout(0.5))\n",
        "  model.add(Dense(10, activation='softmax'))\n",
        "  optimizador = optimizers.SGD(lr=0.001, momentum=0.9,nesterov=True)\n",
        "  model.compile(optimizer=optimizador, loss='categorical_crossentropy', metrics=['accuracy'])\n",
        "  model.fit(train_new, train_label, epochs=epoch,batch_size=64,verbose=1,validation_split=0.4)\n",
        "  _, accuracy = model.evaluate(train_new,train_label,verbose=0)\n",
        "  c,accuracy_test = model.evaluate(test_new,test_label,verbose=0)\n",
        "  return [accuracy,accuracy_test]"
      ],
      "execution_count": 0,
      "outputs": []
    },
    {
      "cell_type": "code",
      "metadata": {
        "id": "CSvMBLgqcvY3",
        "colab_type": "code",
        "colab": {
          "base_uri": "https://localhost:8080/",
          "height": 1000
        },
        "outputId": "412698b3-9244-46ec-c55a-a0c98a0ac350"
      },
      "source": [
        "dropout2(150)"
      ],
      "execution_count": 33,
      "outputs": [
        {
          "output_type": "stream",
          "text": [
            "Train on 30000 samples, validate on 20000 samples\n",
            "Epoch 1/150\n",
            "30000/30000 [==============================] - 14s 459us/step - loss: 2.2559 - acc: 0.1448 - val_loss: 2.0910 - val_acc: 0.2392\n",
            "Epoch 2/150\n",
            "30000/30000 [==============================] - 12s 416us/step - loss: 2.0275 - acc: 0.2348 - val_loss: 1.8631 - val_acc: 0.3258\n",
            "Epoch 3/150\n",
            "30000/30000 [==============================] - 12s 416us/step - loss: 1.8468 - acc: 0.3050 - val_loss: 1.7123 - val_acc: 0.3836\n",
            "Epoch 4/150\n",
            "30000/30000 [==============================] - 13s 417us/step - loss: 1.7342 - acc: 0.3483 - val_loss: 1.6005 - val_acc: 0.4107\n",
            "Epoch 5/150\n",
            "30000/30000 [==============================] - 13s 419us/step - loss: 1.6641 - acc: 0.3788 - val_loss: 1.5398 - val_acc: 0.4345\n",
            "Epoch 6/150\n",
            "30000/30000 [==============================] - 12s 416us/step - loss: 1.6028 - acc: 0.4059 - val_loss: 1.5012 - val_acc: 0.4553\n",
            "Epoch 7/150\n",
            "30000/30000 [==============================] - 12s 416us/step - loss: 1.5496 - acc: 0.4291 - val_loss: 1.4309 - val_acc: 0.4802\n",
            "Epoch 8/150\n",
            "30000/30000 [==============================] - 13s 417us/step - loss: 1.4976 - acc: 0.4542 - val_loss: 1.3861 - val_acc: 0.4898\n",
            "Epoch 9/150\n",
            "30000/30000 [==============================] - 12s 416us/step - loss: 1.4609 - acc: 0.4667 - val_loss: 1.3984 - val_acc: 0.4896\n",
            "Epoch 10/150\n",
            "30000/30000 [==============================] - 13s 417us/step - loss: 1.4243 - acc: 0.4797 - val_loss: 1.3242 - val_acc: 0.5228\n",
            "Epoch 11/150\n",
            "30000/30000 [==============================] - 13s 418us/step - loss: 1.3930 - acc: 0.4935 - val_loss: 1.3248 - val_acc: 0.5167\n",
            "Epoch 12/150\n",
            "30000/30000 [==============================] - 13s 418us/step - loss: 1.3684 - acc: 0.5044 - val_loss: 1.2597 - val_acc: 0.5456\n",
            "Epoch 13/150\n",
            "30000/30000 [==============================] - 13s 418us/step - loss: 1.3308 - acc: 0.5152 - val_loss: 1.2300 - val_acc: 0.5598\n",
            "Epoch 14/150\n",
            "30000/30000 [==============================] - 13s 419us/step - loss: 1.3027 - acc: 0.5369 - val_loss: 1.1781 - val_acc: 0.5786\n",
            "Epoch 15/150\n",
            "30000/30000 [==============================] - 12s 416us/step - loss: 1.2790 - acc: 0.5408 - val_loss: 1.1659 - val_acc: 0.5795\n",
            "Epoch 16/150\n",
            "30000/30000 [==============================] - 13s 420us/step - loss: 1.2413 - acc: 0.5570 - val_loss: 1.1344 - val_acc: 0.5959\n",
            "Epoch 17/150\n",
            "30000/30000 [==============================] - 13s 418us/step - loss: 1.2128 - acc: 0.5674 - val_loss: 1.1193 - val_acc: 0.6009\n",
            "Epoch 18/150\n",
            "30000/30000 [==============================] - 12s 415us/step - loss: 1.1894 - acc: 0.5776 - val_loss: 1.0677 - val_acc: 0.6217\n",
            "Epoch 19/150\n",
            "30000/30000 [==============================] - 12s 417us/step - loss: 1.1706 - acc: 0.5851 - val_loss: 1.0731 - val_acc: 0.6161\n",
            "Epoch 20/150\n",
            "30000/30000 [==============================] - 13s 417us/step - loss: 1.1436 - acc: 0.5945 - val_loss: 1.0405 - val_acc: 0.6288\n",
            "Epoch 21/150\n",
            "30000/30000 [==============================] - 13s 424us/step - loss: 1.1178 - acc: 0.6063 - val_loss: 1.0272 - val_acc: 0.6308\n",
            "Epoch 22/150\n",
            "30000/30000 [==============================] - 13s 418us/step - loss: 1.0964 - acc: 0.6094 - val_loss: 1.0051 - val_acc: 0.6439\n",
            "Epoch 23/150\n",
            "30000/30000 [==============================] - 13s 418us/step - loss: 1.0682 - acc: 0.6191 - val_loss: 0.9465 - val_acc: 0.6635\n",
            "Epoch 24/150\n",
            "30000/30000 [==============================] - 12s 415us/step - loss: 1.0524 - acc: 0.6298 - val_loss: 0.9344 - val_acc: 0.6677\n",
            "Epoch 25/150\n",
            "30000/30000 [==============================] - 12s 415us/step - loss: 1.0343 - acc: 0.6379 - val_loss: 0.9275 - val_acc: 0.6697\n",
            "Epoch 26/150\n",
            "30000/30000 [==============================] - 13s 418us/step - loss: 1.0167 - acc: 0.6405 - val_loss: 0.9092 - val_acc: 0.6795\n",
            "Epoch 27/150\n",
            "30000/30000 [==============================] - 12s 416us/step - loss: 0.9956 - acc: 0.6506 - val_loss: 0.8791 - val_acc: 0.6878\n",
            "Epoch 28/150\n",
            "30000/30000 [==============================] - 13s 419us/step - loss: 0.9837 - acc: 0.6508 - val_loss: 0.8746 - val_acc: 0.6881\n",
            "Epoch 29/150\n",
            "30000/30000 [==============================] - 12s 415us/step - loss: 0.9668 - acc: 0.6618 - val_loss: 0.8665 - val_acc: 0.6953\n",
            "Epoch 30/150\n",
            "30000/30000 [==============================] - 13s 417us/step - loss: 0.9571 - acc: 0.6640 - val_loss: 0.8551 - val_acc: 0.6974\n",
            "Epoch 31/150\n",
            "30000/30000 [==============================] - 12s 415us/step - loss: 0.9428 - acc: 0.6667 - val_loss: 0.8370 - val_acc: 0.6998\n",
            "Epoch 32/150\n",
            "30000/30000 [==============================] - 12s 416us/step - loss: 0.9240 - acc: 0.6746 - val_loss: 0.8288 - val_acc: 0.7085\n",
            "Epoch 33/150\n",
            "30000/30000 [==============================] - 12s 414us/step - loss: 0.9177 - acc: 0.6812 - val_loss: 0.8050 - val_acc: 0.7149\n",
            "Epoch 34/150\n",
            "30000/30000 [==============================] - 12s 415us/step - loss: 0.9049 - acc: 0.6798 - val_loss: 0.8059 - val_acc: 0.7148\n",
            "Epoch 35/150\n",
            "30000/30000 [==============================] - 13s 417us/step - loss: 0.8924 - acc: 0.6865 - val_loss: 0.7991 - val_acc: 0.7163\n",
            "Epoch 36/150\n",
            "30000/30000 [==============================] - 12s 416us/step - loss: 0.8783 - acc: 0.6907 - val_loss: 0.7899 - val_acc: 0.7199\n",
            "Epoch 37/150\n",
            "30000/30000 [==============================] - 13s 418us/step - loss: 0.8678 - acc: 0.6948 - val_loss: 0.7840 - val_acc: 0.7206\n",
            "Epoch 38/150\n",
            "30000/30000 [==============================] - 12s 417us/step - loss: 0.8619 - acc: 0.6990 - val_loss: 0.7974 - val_acc: 0.7170\n",
            "Epoch 39/150\n",
            "30000/30000 [==============================] - 12s 415us/step - loss: 0.8440 - acc: 0.7047 - val_loss: 0.7564 - val_acc: 0.7315\n",
            "Epoch 40/150\n",
            "30000/30000 [==============================] - 13s 420us/step - loss: 0.8431 - acc: 0.7036 - val_loss: 0.7713 - val_acc: 0.7260\n",
            "Epoch 41/150\n",
            "30000/30000 [==============================] - 13s 420us/step - loss: 0.8277 - acc: 0.7108 - val_loss: 0.7592 - val_acc: 0.7311\n",
            "Epoch 42/150\n",
            "30000/30000 [==============================] - 12s 416us/step - loss: 0.8200 - acc: 0.7142 - val_loss: 0.7461 - val_acc: 0.7353\n",
            "Epoch 43/150\n",
            "30000/30000 [==============================] - 13s 418us/step - loss: 0.8120 - acc: 0.7160 - val_loss: 0.7565 - val_acc: 0.7319\n",
            "Epoch 44/150\n",
            "30000/30000 [==============================] - 13s 417us/step - loss: 0.8096 - acc: 0.7162 - val_loss: 0.7574 - val_acc: 0.7327\n",
            "Epoch 45/150\n",
            "30000/30000 [==============================] - 13s 419us/step - loss: 0.7944 - acc: 0.7214 - val_loss: 0.7572 - val_acc: 0.7320\n",
            "Epoch 46/150\n",
            "30000/30000 [==============================] - 13s 424us/step - loss: 0.7857 - acc: 0.7231 - val_loss: 0.7288 - val_acc: 0.7430\n",
            "Epoch 47/150\n",
            "30000/30000 [==============================] - 13s 418us/step - loss: 0.7816 - acc: 0.7268 - val_loss: 0.7305 - val_acc: 0.7423\n",
            "Epoch 48/150\n",
            "30000/30000 [==============================] - 12s 416us/step - loss: 0.7737 - acc: 0.7286 - val_loss: 0.7247 - val_acc: 0.7426\n",
            "Epoch 49/150\n",
            "30000/30000 [==============================] - 13s 417us/step - loss: 0.7650 - acc: 0.7313 - val_loss: 0.7689 - val_acc: 0.7321\n",
            "Epoch 50/150\n",
            "30000/30000 [==============================] - 13s 417us/step - loss: 0.7596 - acc: 0.7335 - val_loss: 0.7061 - val_acc: 0.7520\n",
            "Epoch 51/150\n",
            "30000/30000 [==============================] - 13s 417us/step - loss: 0.7551 - acc: 0.7339 - val_loss: 0.6981 - val_acc: 0.7511\n",
            "Epoch 52/150\n",
            "30000/30000 [==============================] - 12s 416us/step - loss: 0.7454 - acc: 0.7351 - val_loss: 0.6879 - val_acc: 0.7579\n",
            "Epoch 53/150\n",
            "30000/30000 [==============================] - 13s 417us/step - loss: 0.7354 - acc: 0.7420 - val_loss: 0.7024 - val_acc: 0.7527\n",
            "Epoch 54/150\n",
            "30000/30000 [==============================] - 13s 417us/step - loss: 0.7329 - acc: 0.7445 - val_loss: 0.6963 - val_acc: 0.7546\n",
            "Epoch 55/150\n",
            "30000/30000 [==============================] - 13s 418us/step - loss: 0.7230 - acc: 0.7451 - val_loss: 0.7069 - val_acc: 0.7508\n",
            "Epoch 56/150\n",
            "30000/30000 [==============================] - 12s 415us/step - loss: 0.7167 - acc: 0.7472 - val_loss: 0.6832 - val_acc: 0.7603\n",
            "Epoch 57/150\n",
            "30000/30000 [==============================] - 12s 416us/step - loss: 0.7123 - acc: 0.7500 - val_loss: 0.6657 - val_acc: 0.7663\n",
            "Epoch 58/150\n",
            "30000/30000 [==============================] - 13s 417us/step - loss: 0.6998 - acc: 0.7530 - val_loss: 0.6686 - val_acc: 0.7651\n",
            "Epoch 59/150\n",
            "30000/30000 [==============================] - 12s 416us/step - loss: 0.7008 - acc: 0.7537 - val_loss: 0.6807 - val_acc: 0.7609\n",
            "Epoch 60/150\n",
            "30000/30000 [==============================] - 13s 418us/step - loss: 0.6866 - acc: 0.7578 - val_loss: 0.6811 - val_acc: 0.7622\n",
            "Epoch 61/150\n",
            "30000/30000 [==============================] - 12s 416us/step - loss: 0.6821 - acc: 0.7600 - val_loss: 0.6554 - val_acc: 0.7688\n",
            "Epoch 62/150\n",
            "30000/30000 [==============================] - 12s 414us/step - loss: 0.6794 - acc: 0.7631 - val_loss: 0.6550 - val_acc: 0.7691\n",
            "Epoch 63/150\n",
            "30000/30000 [==============================] - 12s 415us/step - loss: 0.6804 - acc: 0.7636 - val_loss: 0.6602 - val_acc: 0.7696\n",
            "Epoch 64/150\n",
            "30000/30000 [==============================] - 12s 416us/step - loss: 0.6691 - acc: 0.7648 - val_loss: 0.6691 - val_acc: 0.7666\n",
            "Epoch 65/150\n",
            "30000/30000 [==============================] - 13s 419us/step - loss: 0.6637 - acc: 0.7669 - val_loss: 0.6538 - val_acc: 0.7736\n",
            "Epoch 66/150\n",
            "30000/30000 [==============================] - 13s 419us/step - loss: 0.6573 - acc: 0.7685 - val_loss: 0.6523 - val_acc: 0.7726\n",
            "Epoch 67/150\n",
            "30000/30000 [==============================] - 13s 419us/step - loss: 0.6525 - acc: 0.7707 - val_loss: 0.6384 - val_acc: 0.7748\n",
            "Epoch 68/150\n",
            "30000/30000 [==============================] - 12s 414us/step - loss: 0.6441 - acc: 0.7726 - val_loss: 0.6587 - val_acc: 0.7692\n",
            "Epoch 69/150\n",
            "30000/30000 [==============================] - 12s 415us/step - loss: 0.6452 - acc: 0.7747 - val_loss: 0.6418 - val_acc: 0.7782\n",
            "Epoch 70/150\n",
            "30000/30000 [==============================] - 13s 418us/step - loss: 0.6338 - acc: 0.7763 - val_loss: 0.6417 - val_acc: 0.7758\n",
            "Epoch 71/150\n",
            "30000/30000 [==============================] - 13s 421us/step - loss: 0.6299 - acc: 0.7796 - val_loss: 0.6513 - val_acc: 0.7726\n",
            "Epoch 72/150\n",
            "30000/30000 [==============================] - 12s 414us/step - loss: 0.6279 - acc: 0.7770 - val_loss: 0.6413 - val_acc: 0.7766\n",
            "Epoch 73/150\n",
            "30000/30000 [==============================] - 12s 413us/step - loss: 0.6242 - acc: 0.7814 - val_loss: 0.6239 - val_acc: 0.7818\n",
            "Epoch 74/150\n",
            "30000/30000 [==============================] - 13s 418us/step - loss: 0.6167 - acc: 0.7822 - val_loss: 0.6332 - val_acc: 0.7804\n",
            "Epoch 75/150\n",
            "30000/30000 [==============================] - 13s 417us/step - loss: 0.6158 - acc: 0.7841 - val_loss: 0.6367 - val_acc: 0.7817\n",
            "Epoch 76/150\n",
            "30000/30000 [==============================] - 12s 415us/step - loss: 0.6095 - acc: 0.7841 - val_loss: 0.6263 - val_acc: 0.7849\n",
            "Epoch 77/150\n",
            "30000/30000 [==============================] - 12s 417us/step - loss: 0.5980 - acc: 0.7888 - val_loss: 0.6307 - val_acc: 0.7825\n",
            "Epoch 78/150\n",
            "30000/30000 [==============================] - 12s 416us/step - loss: 0.6025 - acc: 0.7893 - val_loss: 0.6209 - val_acc: 0.7849\n",
            "Epoch 79/150\n",
            "30000/30000 [==============================] - 13s 417us/step - loss: 0.5904 - acc: 0.7905 - val_loss: 0.6160 - val_acc: 0.7877\n",
            "Epoch 80/150\n",
            "30000/30000 [==============================] - 13s 417us/step - loss: 0.5928 - acc: 0.7926 - val_loss: 0.6499 - val_acc: 0.7767\n",
            "Epoch 81/150\n",
            "30000/30000 [==============================] - 12s 416us/step - loss: 0.5851 - acc: 0.7936 - val_loss: 0.6198 - val_acc: 0.7885\n",
            "Epoch 82/150\n",
            "30000/30000 [==============================] - 13s 418us/step - loss: 0.5784 - acc: 0.7948 - val_loss: 0.6324 - val_acc: 0.7788\n",
            "Epoch 83/150\n",
            "30000/30000 [==============================] - 12s 417us/step - loss: 0.5718 - acc: 0.7997 - val_loss: 0.6163 - val_acc: 0.7898\n",
            "Epoch 84/150\n",
            "30000/30000 [==============================] - 13s 418us/step - loss: 0.5681 - acc: 0.7994 - val_loss: 0.6265 - val_acc: 0.7901\n",
            "Epoch 85/150\n",
            "30000/30000 [==============================] - 12s 415us/step - loss: 0.5668 - acc: 0.8011 - val_loss: 0.6165 - val_acc: 0.7920\n",
            "Epoch 86/150\n",
            "30000/30000 [==============================] - 12s 415us/step - loss: 0.5570 - acc: 0.8025 - val_loss: 0.6198 - val_acc: 0.7896\n",
            "Epoch 87/150\n",
            "30000/30000 [==============================] - 13s 418us/step - loss: 0.5593 - acc: 0.8041 - val_loss: 0.6080 - val_acc: 0.7899\n",
            "Epoch 88/150\n",
            "30000/30000 [==============================] - 12s 415us/step - loss: 0.5509 - acc: 0.8043 - val_loss: 0.6051 - val_acc: 0.7923\n",
            "Epoch 89/150\n",
            "30000/30000 [==============================] - 13s 418us/step - loss: 0.5529 - acc: 0.8058 - val_loss: 0.6013 - val_acc: 0.7951\n",
            "Epoch 90/150\n",
            "30000/30000 [==============================] - 13s 418us/step - loss: 0.5468 - acc: 0.8054 - val_loss: 0.6115 - val_acc: 0.7907\n",
            "Epoch 91/150\n",
            "30000/30000 [==============================] - 13s 418us/step - loss: 0.5386 - acc: 0.8098 - val_loss: 0.5986 - val_acc: 0.7976\n",
            "Epoch 92/150\n",
            "30000/30000 [==============================] - 13s 418us/step - loss: 0.5371 - acc: 0.8088 - val_loss: 0.6012 - val_acc: 0.7944\n",
            "Epoch 93/150\n",
            "30000/30000 [==============================] - 13s 417us/step - loss: 0.5347 - acc: 0.8084 - val_loss: 0.6248 - val_acc: 0.7902\n",
            "Epoch 94/150\n",
            "30000/30000 [==============================] - 13s 417us/step - loss: 0.5231 - acc: 0.8163 - val_loss: 0.6079 - val_acc: 0.7964\n",
            "Epoch 95/150\n",
            "30000/30000 [==============================] - 13s 422us/step - loss: 0.5276 - acc: 0.8136 - val_loss: 0.5902 - val_acc: 0.7986\n",
            "Epoch 96/150\n",
            "30000/30000 [==============================] - 13s 419us/step - loss: 0.5205 - acc: 0.8153 - val_loss: 0.5876 - val_acc: 0.7994\n",
            "Epoch 97/150\n",
            "30000/30000 [==============================] - 13s 418us/step - loss: 0.5190 - acc: 0.8174 - val_loss: 0.6501 - val_acc: 0.7810\n",
            "Epoch 98/150\n",
            "30000/30000 [==============================] - 12s 417us/step - loss: 0.5133 - acc: 0.8175 - val_loss: 0.5927 - val_acc: 0.7991\n",
            "Epoch 99/150\n",
            "30000/30000 [==============================] - 13s 417us/step - loss: 0.5119 - acc: 0.8159 - val_loss: 0.5817 - val_acc: 0.8044\n",
            "Epoch 100/150\n",
            "30000/30000 [==============================] - 12s 416us/step - loss: 0.5078 - acc: 0.8212 - val_loss: 0.5917 - val_acc: 0.7994\n",
            "Epoch 101/150\n",
            "30000/30000 [==============================] - 12s 416us/step - loss: 0.4977 - acc: 0.8240 - val_loss: 0.5998 - val_acc: 0.7970\n",
            "Epoch 102/150\n",
            "30000/30000 [==============================] - 12s 417us/step - loss: 0.5002 - acc: 0.8215 - val_loss: 0.5890 - val_acc: 0.8025\n",
            "Epoch 103/150\n",
            "30000/30000 [==============================] - 12s 416us/step - loss: 0.5026 - acc: 0.8238 - val_loss: 0.5989 - val_acc: 0.7999\n",
            "Epoch 104/150\n",
            "30000/30000 [==============================] - 12s 415us/step - loss: 0.4966 - acc: 0.8257 - val_loss: 0.5974 - val_acc: 0.7993\n",
            "Epoch 105/150\n",
            "30000/30000 [==============================] - 12s 416us/step - loss: 0.4889 - acc: 0.8286 - val_loss: 0.5734 - val_acc: 0.8057\n",
            "Epoch 106/150\n",
            "30000/30000 [==============================] - 13s 418us/step - loss: 0.4829 - acc: 0.8282 - val_loss: 0.5906 - val_acc: 0.8016\n",
            "Epoch 107/150\n",
            "30000/30000 [==============================] - 13s 418us/step - loss: 0.4808 - acc: 0.8293 - val_loss: 0.5916 - val_acc: 0.8025\n",
            "Epoch 108/150\n",
            "30000/30000 [==============================] - 13s 417us/step - loss: 0.4848 - acc: 0.8294 - val_loss: 0.5822 - val_acc: 0.8070\n",
            "Epoch 109/150\n",
            "30000/30000 [==============================] - 13s 417us/step - loss: 0.4750 - acc: 0.8326 - val_loss: 0.5764 - val_acc: 0.8057\n",
            "Epoch 110/150\n",
            "30000/30000 [==============================] - 12s 416us/step - loss: 0.4732 - acc: 0.8321 - val_loss: 0.5791 - val_acc: 0.8058\n",
            "Epoch 111/150\n",
            "30000/30000 [==============================] - 12s 417us/step - loss: 0.4715 - acc: 0.8331 - val_loss: 0.5928 - val_acc: 0.8012\n",
            "Epoch 112/150\n",
            "30000/30000 [==============================] - 12s 416us/step - loss: 0.4619 - acc: 0.8364 - val_loss: 0.5730 - val_acc: 0.8081\n",
            "Epoch 113/150\n",
            "30000/30000 [==============================] - 12s 414us/step - loss: 0.4643 - acc: 0.8335 - val_loss: 0.5774 - val_acc: 0.8061\n",
            "Epoch 114/150\n",
            "30000/30000 [==============================] - 13s 419us/step - loss: 0.4583 - acc: 0.8373 - val_loss: 0.5855 - val_acc: 0.8054\n",
            "Epoch 115/150\n",
            "30000/30000 [==============================] - 13s 418us/step - loss: 0.4586 - acc: 0.8370 - val_loss: 0.5718 - val_acc: 0.8082\n",
            "Epoch 116/150\n",
            "30000/30000 [==============================] - 12s 416us/step - loss: 0.4510 - acc: 0.8371 - val_loss: 0.5884 - val_acc: 0.8050\n",
            "Epoch 117/150\n",
            "30000/30000 [==============================] - 12s 414us/step - loss: 0.4550 - acc: 0.8392 - val_loss: 0.5795 - val_acc: 0.8084\n",
            "Epoch 118/150\n",
            "30000/30000 [==============================] - 12s 415us/step - loss: 0.4549 - acc: 0.8383 - val_loss: 0.5721 - val_acc: 0.8108\n",
            "Epoch 119/150\n",
            "30000/30000 [==============================] - 12s 415us/step - loss: 0.4452 - acc: 0.8411 - val_loss: 0.5819 - val_acc: 0.8075\n",
            "Epoch 120/150\n",
            "30000/30000 [==============================] - 13s 421us/step - loss: 0.4369 - acc: 0.8449 - val_loss: 0.5810 - val_acc: 0.8091\n",
            "Epoch 121/150\n",
            "30000/30000 [==============================] - 13s 418us/step - loss: 0.4380 - acc: 0.8432 - val_loss: 0.5675 - val_acc: 0.8102\n",
            "Epoch 122/150\n",
            "30000/30000 [==============================] - 12s 417us/step - loss: 0.4358 - acc: 0.8448 - val_loss: 0.5816 - val_acc: 0.8059\n",
            "Epoch 123/150\n",
            "30000/30000 [==============================] - 13s 417us/step - loss: 0.4368 - acc: 0.8436 - val_loss: 0.5852 - val_acc: 0.8088\n",
            "Epoch 124/150\n",
            "30000/30000 [==============================] - 12s 416us/step - loss: 0.4242 - acc: 0.8481 - val_loss: 0.5861 - val_acc: 0.8103\n",
            "Epoch 125/150\n",
            "30000/30000 [==============================] - 12s 416us/step - loss: 0.4274 - acc: 0.8486 - val_loss: 0.5791 - val_acc: 0.8117\n",
            "Epoch 126/150\n",
            "30000/30000 [==============================] - 12s 416us/step - loss: 0.4195 - acc: 0.8501 - val_loss: 0.5935 - val_acc: 0.8077\n",
            "Epoch 127/150\n",
            "30000/30000 [==============================] - 12s 416us/step - loss: 0.4190 - acc: 0.8501 - val_loss: 0.5714 - val_acc: 0.8121\n",
            "Epoch 128/150\n",
            "30000/30000 [==============================] - 12s 416us/step - loss: 0.4164 - acc: 0.8531 - val_loss: 0.5807 - val_acc: 0.8077\n",
            "Epoch 129/150\n",
            "30000/30000 [==============================] - 13s 417us/step - loss: 0.4137 - acc: 0.8507 - val_loss: 0.5778 - val_acc: 0.8143\n",
            "Epoch 130/150\n",
            "30000/30000 [==============================] - 12s 417us/step - loss: 0.4088 - acc: 0.8575 - val_loss: 0.6048 - val_acc: 0.8085\n",
            "Epoch 131/150\n",
            "30000/30000 [==============================] - 12s 416us/step - loss: 0.4096 - acc: 0.8526 - val_loss: 0.5986 - val_acc: 0.8093\n",
            "Epoch 132/150\n",
            "30000/30000 [==============================] - 13s 417us/step - loss: 0.4068 - acc: 0.8540 - val_loss: 0.5774 - val_acc: 0.8123\n",
            "Epoch 133/150\n",
            "30000/30000 [==============================] - 12s 417us/step - loss: 0.4062 - acc: 0.8559 - val_loss: 0.5614 - val_acc: 0.8149\n",
            "Epoch 134/150\n",
            "30000/30000 [==============================] - 13s 417us/step - loss: 0.3999 - acc: 0.8569 - val_loss: 0.6068 - val_acc: 0.8044\n",
            "Epoch 135/150\n",
            "30000/30000 [==============================] - 12s 415us/step - loss: 0.4072 - acc: 0.8546 - val_loss: 0.5729 - val_acc: 0.8138\n",
            "Epoch 136/150\n",
            "30000/30000 [==============================] - 13s 417us/step - loss: 0.3928 - acc: 0.8585 - val_loss: 0.5866 - val_acc: 0.8104\n",
            "Epoch 137/150\n",
            "30000/30000 [==============================] - 12s 415us/step - loss: 0.3969 - acc: 0.8570 - val_loss: 0.5910 - val_acc: 0.8116\n",
            "Epoch 138/150\n",
            "30000/30000 [==============================] - 13s 420us/step - loss: 0.3850 - acc: 0.8623 - val_loss: 0.5939 - val_acc: 0.8126\n",
            "Epoch 139/150\n",
            "30000/30000 [==============================] - 13s 418us/step - loss: 0.3902 - acc: 0.8627 - val_loss: 0.5891 - val_acc: 0.8115\n",
            "Epoch 140/150\n",
            "30000/30000 [==============================] - 12s 416us/step - loss: 0.3822 - acc: 0.8642 - val_loss: 0.5762 - val_acc: 0.8159\n",
            "Epoch 141/150\n",
            "30000/30000 [==============================] - 13s 418us/step - loss: 0.3870 - acc: 0.8617 - val_loss: 0.6154 - val_acc: 0.8091\n",
            "Epoch 142/150\n",
            "30000/30000 [==============================] - 13s 417us/step - loss: 0.3796 - acc: 0.8644 - val_loss: 0.5693 - val_acc: 0.8171\n",
            "Epoch 143/150\n",
            "30000/30000 [==============================] - 13s 417us/step - loss: 0.3757 - acc: 0.8651 - val_loss: 0.5683 - val_acc: 0.8170\n",
            "Epoch 144/150\n",
            "30000/30000 [==============================] - 12s 415us/step - loss: 0.3746 - acc: 0.8668 - val_loss: 0.6086 - val_acc: 0.8097\n",
            "Epoch 145/150\n",
            "30000/30000 [==============================] - 13s 425us/step - loss: 0.3738 - acc: 0.8657 - val_loss: 0.5700 - val_acc: 0.8169\n",
            "Epoch 146/150\n",
            "30000/30000 [==============================] - 13s 418us/step - loss: 0.3674 - acc: 0.8688 - val_loss: 0.5893 - val_acc: 0.8161\n",
            "Epoch 147/150\n",
            "30000/30000 [==============================] - 13s 417us/step - loss: 0.3714 - acc: 0.8676 - val_loss: 0.5822 - val_acc: 0.8161\n",
            "Epoch 148/150\n",
            "30000/30000 [==============================] - 12s 416us/step - loss: 0.3636 - acc: 0.8682 - val_loss: 0.5964 - val_acc: 0.8151\n",
            "Epoch 149/150\n",
            "30000/30000 [==============================] - 12s 414us/step - loss: 0.3625 - acc: 0.8704 - val_loss: 0.6024 - val_acc: 0.8136\n",
            "Epoch 150/150\n",
            "30000/30000 [==============================] - 12s 414us/step - loss: 0.3645 - acc: 0.8681 - val_loss: 0.5826 - val_acc: 0.8177\n"
          ],
          "name": "stdout"
        },
        {
          "output_type": "execute_result",
          "data": {
            "text/plain": [
              "[0.90166, 0.8119]"
            ]
          },
          "metadata": {
            "tags": []
          },
          "execution_count": 33
        }
      ]
    },
    {
      "cell_type": "code",
      "metadata": {
        "id": "gf2C_MI7c45B",
        "colab_type": "code",
        "colab": {}
      },
      "source": [
        "def dropout3(epoch):\n",
        "  model = Sequential()\n",
        "  model.add(Conv2D(32, (3, 3), activation='relu', kernel_initializer='he_uniform', padding='same', input_shape=(32, 32, 3)))\n",
        "  model.add(Conv2D(32, (3, 3), activation='relu', kernel_initializer='he_uniform', padding='same'))\n",
        "  model.add(MaxPooling2D((2, 2)))\n",
        "  model.add(Dropout(0.25))\n",
        "  model.add(Conv2D(64, (3, 3), activation='relu', kernel_initializer='he_uniform', padding='same'))\n",
        "  model.add(Conv2D(64, (3, 3), activation='relu', kernel_initializer='he_uniform', padding='same'))\n",
        "  model.add(MaxPooling2D((2, 2)))\n",
        "  model.add(Dropout(0.25))\n",
        "  model.add(Conv2D(128, (3, 3), activation='relu', kernel_initializer='he_uniform', padding='same'))\n",
        "  model.add(Conv2D(128, (3, 3), activation='relu', kernel_initializer='he_uniform', padding='same'))\n",
        "  model.add(MaxPooling2D((2, 2)))\n",
        "  model.add(Dropout(0.25))\n",
        "  model.add(Flatten())\n",
        "  model.add(Dense(128, activation='relu', kernel_initializer='he_uniform'))\n",
        "  model.add(Dropout(0.5))\n",
        "  model.add(Dense(10, activation='softmax'))\n",
        "  #optimizador = optimizers.SGD(lr=0.001, momentum=0.9,nesterov=True)\n",
        "  model.compile(optimizer='adagrad', loss='categorical_crossentropy', metrics=['accuracy'])\n",
        "  model.fit(train_new, train_label, epochs=epoch,batch_size=64,verbose=0,validation_split=0.4)\n",
        "  _, accuracy = model.evaluate(train_new,train_label,verbose=0)\n",
        "  c,accuracy_test = model.evaluate(test_new,test_label,verbose=0)\n",
        "  return [accuracy,accuracy_test]"
      ],
      "execution_count": 0,
      "outputs": []
    },
    {
      "cell_type": "code",
      "metadata": {
        "id": "qkZnVaMsutCF",
        "colab_type": "code",
        "colab": {
          "base_uri": "https://localhost:8080/",
          "height": 34
        },
        "outputId": "f6644743-b606-41fc-a3f4-bdada29bacda"
      },
      "source": [
        "dropout3(150)"
      ],
      "execution_count": 35,
      "outputs": [
        {
          "output_type": "execute_result",
          "data": {
            "text/plain": [
              "[0.91712, 0.8038]"
            ]
          },
          "metadata": {
            "tags": []
          },
          "execution_count": 35
        }
      ]
    },
    {
      "cell_type": "markdown",
      "metadata": {
        "id": "KyEA5wzQ29ep",
        "colab_type": "text"
      },
      "source": [
        "En los últimos 2 casos, la métrica mejoró. En el segundo caso se utilizó adagrad como optimizador. Ahora se prueba de nuevo Nesterov con distinto learning rate. "
      ]
    },
    {
      "cell_type": "code",
      "metadata": {
        "id": "HcGYksycuxS9",
        "colab_type": "code",
        "colab": {}
      },
      "source": [
        "def dropout4(epoch):\n",
        "  model = Sequential()\n",
        "  model.add(Conv2D(32, (3, 3), activation='relu', kernel_initializer='he_uniform', padding='same', input_shape=(32, 32, 3)))\n",
        "  model.add(Conv2D(32, (3, 3), activation='relu', kernel_initializer='he_uniform', padding='same'))\n",
        "  model.add(MaxPooling2D((2, 2)))\n",
        "  model.add(Dropout(0.25))\n",
        "  model.add(Conv2D(64, (3, 3), activation='relu', kernel_initializer='he_uniform', padding='same'))\n",
        "  model.add(Conv2D(64, (3, 3), activation='relu', kernel_initializer='he_uniform', padding='same'))\n",
        "  model.add(MaxPooling2D((2, 2)))\n",
        "  model.add(Dropout(0.25))\n",
        "  model.add(Conv2D(128, (3, 3), activation='relu', kernel_initializer='he_uniform', padding='same'))\n",
        "  model.add(Conv2D(128, (3, 3), activation='relu', kernel_initializer='he_uniform', padding='same'))\n",
        "  model.add(MaxPooling2D((2, 2)))\n",
        "  model.add(Dropout(0.25))\n",
        "  model.add(Flatten())\n",
        "  model.add(Dense(128, activation='relu', kernel_initializer='he_uniform'))\n",
        "  model.add(Dropout(0.5))\n",
        "  model.add(Dense(10, activation='softmax'))\n",
        "  optimizador = optimizers.SGD(lr=0.01, momentum=0.9,nesterov=True)\n",
        "  model.compile(optimizer=optimizador, loss='categorical_crossentropy', metrics=['accuracy'])\n",
        "  model.fit(train_new, train_label, epochs=epoch,batch_size=64,verbose=0,validation_split=0.4)\n",
        "  _, accuracy = model.evaluate(train_new,train_label,verbose=0)\n",
        "  c,accuracy_test = model.evaluate(test_new,test_label,verbose=0)\n",
        "  return [accuracy,accuracy_test]"
      ],
      "execution_count": 0,
      "outputs": []
    },
    {
      "cell_type": "code",
      "metadata": {
        "id": "nnaTFPKT38Hx",
        "colab_type": "code",
        "colab": {
          "base_uri": "https://localhost:8080/",
          "height": 34
        },
        "outputId": "3541bc62-bb12-4546-c39c-f51e26573072"
      },
      "source": [
        "dropout4(150)"
      ],
      "execution_count": 42,
      "outputs": [
        {
          "output_type": "execute_result",
          "data": {
            "text/plain": [
              "[0.89912, 0.8052]"
            ]
          },
          "metadata": {
            "tags": []
          },
          "execution_count": 42
        }
      ]
    },
    {
      "cell_type": "code",
      "metadata": {
        "id": "Erw2R3-wU9mn",
        "colab_type": "code",
        "colab": {}
      },
      "source": [
        "def dropout5(epoch):\n",
        "  model = Sequential()\n",
        "  model.add(Conv2D(32, (3, 3), activation='relu', kernel_initializer='truncated_normal', padding='same', input_shape=(32, 32, 3))) #se prueba otro inicializador\n",
        "  model.add(Conv2D(32, (3, 3), activation='relu', kernel_initializer='truncated_normal', padding='same'))\n",
        "  model.add(BatchNormalization())\n",
        "  model.add(MaxPooling2D((2, 2)))\n",
        "  model.add(Dropout(0.25))\n",
        "  model.add(Conv2D(64, (3, 3), activation='relu', kernel_initializer='truncated_normal', padding='same'))\n",
        "  model.add(Conv2D(64, (3, 3), activation='relu', kernel_initializer='truncated_normal', padding='same'))\n",
        "  model.add(BatchNormalization())\n",
        "  model.add(MaxPooling2D((2, 2)))\n",
        "  model.add(Dropout(0.25))\n",
        "  model.add(Conv2D(128, (3, 3), activation='relu', kernel_initializer='truncated_normal', padding='same'))\n",
        "  model.add(Conv2D(128, (3, 3), activation='relu', kernel_initializer='truncated_normal', padding='same'))\n",
        "  model.add(BatchNormalization())\n",
        "  model.add(MaxPooling2D((2, 2)))\n",
        "  model.add(Dropout(0.25))\n",
        "  model.add(Flatten())\n",
        "  model.add(Dense(128, activation='relu', kernel_initializer='truncated_normal'))\n",
        "  model.add(BatchNormalization())\n",
        "  model.add(Dropout(0.5))\n",
        "  model.add(Dense(10, activation='softmax'))\n",
        "  optimizador = optimizers.SGD(lr=0.001, momentum=0.9,nesterov=True)\n",
        "  model.compile(optimizer=optimizador, loss='categorical_crossentropy', metrics=['accuracy'])\n",
        "  model.fit(train_new, train_label, epochs=epoch,batch_size=64,verbose=0,validation_split=0.4)\n",
        "  _, accuracy = model.evaluate(train_new,train_label,verbose=0)\n",
        "  c,accuracy_test = model.evaluate(test_new,test_label,verbose=0)\n",
        "  return [accuracy,accuracy_test]"
      ],
      "execution_count": 0,
      "outputs": []
    },
    {
      "cell_type": "code",
      "metadata": {
        "id": "BiZKGs9tWmRs",
        "colab_type": "code",
        "colab": {
          "base_uri": "https://localhost:8080/",
          "height": 326
        },
        "outputId": "51fc07cc-d31a-4c27-87f1-ea9ec6c78fc2"
      },
      "source": [
        "dropout5(100)"
      ],
      "execution_count": 10,
      "outputs": [
        {
          "output_type": "stream",
          "text": [
            "WARNING:tensorflow:From /usr/local/lib/python3.6/dist-packages/keras/backend/tensorflow_backend.py:190: The name tf.get_default_session is deprecated. Please use tf.compat.v1.get_default_session instead.\n",
            "\n",
            "WARNING:tensorflow:From /usr/local/lib/python3.6/dist-packages/keras/backend/tensorflow_backend.py:197: The name tf.ConfigProto is deprecated. Please use tf.compat.v1.ConfigProto instead.\n",
            "\n",
            "WARNING:tensorflow:From /usr/local/lib/python3.6/dist-packages/keras/backend/tensorflow_backend.py:2041: The name tf.nn.fused_batch_norm is deprecated. Please use tf.compat.v1.nn.fused_batch_norm instead.\n",
            "\n",
            "WARNING:tensorflow:From /usr/local/lib/python3.6/dist-packages/keras/backend/tensorflow_backend.py:4267: The name tf.nn.max_pool is deprecated. Please use tf.nn.max_pool2d instead.\n",
            "\n",
            "WARNING:tensorflow:From /usr/local/lib/python3.6/dist-packages/keras/backend/tensorflow_backend.py:3733: calling dropout (from tensorflow.python.ops.nn_ops) with keep_prob is deprecated and will be removed in a future version.\n",
            "Instructions for updating:\n",
            "Please use `rate` instead of `keep_prob`. Rate should be set to `rate = 1 - keep_prob`.\n",
            "WARNING:tensorflow:From /usr/local/lib/python3.6/dist-packages/keras/optimizers.py:793: The name tf.train.Optimizer is deprecated. Please use tf.compat.v1.train.Optimizer instead.\n",
            "\n",
            "WARNING:tensorflow:From /usr/local/lib/python3.6/dist-packages/tensorflow/python/ops/math_grad.py:1250: add_dispatch_support.<locals>.wrapper (from tensorflow.python.ops.array_ops) is deprecated and will be removed in a future version.\n",
            "Instructions for updating:\n",
            "Use tf.where in 2.0, which has the same broadcast rule as np.where\n"
          ],
          "name": "stdout"
        },
        {
          "output_type": "execute_result",
          "data": {
            "text/plain": [
              "[0.87574, 0.7994]"
            ]
          },
          "metadata": {
            "tags": []
          },
          "execution_count": 10
        }
      ]
    },
    {
      "cell_type": "code",
      "metadata": {
        "id": "4xokFHFpffud",
        "colab_type": "code",
        "colab": {
          "base_uri": "https://localhost:8080/",
          "height": 34
        },
        "outputId": "10720a37-5a33-445b-ae06-1bc23dfa2b63"
      },
      "source": [
        "dropout5(150)"
      ],
      "execution_count": 11,
      "outputs": [
        {
          "output_type": "execute_result",
          "data": {
            "text/plain": [
              "[0.92376, 0.8216]"
            ]
          },
          "metadata": {
            "tags": []
          },
          "execution_count": 11
        }
      ]
    },
    {
      "cell_type": "markdown",
      "metadata": {
        "id": "nUvpUltqETOR",
        "colab_type": "text"
      },
      "source": [
        "**Comentario/Conclusión**"
      ]
    },
    {
      "cell_type": "markdown",
      "metadata": {
        "id": "XKEiU3AICuzC",
        "colab_type": "text"
      },
      "source": [
        "Varias pruebas arrojaron incrementos en el accuracy tanto de train y test. No obstante, el que mejor desempeño tuvo entre todas las pruebas fue la función llamada \"dropout2\" (0.9 train vs 0.81 test). Este resultado se logró aplicando dropout, acelearando el gradiente con Nesterov y aumentando el número de epochs a 150. \n",
        "\n",
        "No obstante, hay un factor importante: en la función \"dropout1\" el gap entre los accuracys fue bajo pero los valores fueron menores. Hay dos posibles restos/soluciones para resolver el problema en general: 1) reducir el gap en el \"dropou2\" para atacar aún mas overfitting o bien 2) seguir experimentado para mejorar el \"dropout1\" para alzanzar mayores niveles de accuracy.\n",
        "\n",
        "De igual manera, en la última prueba se experimentó con Batch Normalization y el accuracy mejoró el valor en ambos sets, pero diferencia también lo hizo (10 puntos). "
      ]
    },
    {
      "cell_type": "markdown",
      "metadata": {
        "id": "_y527heSe53T",
        "colab_type": "text"
      },
      "source": [
        "# **Modelo final**"
      ]
    },
    {
      "cell_type": "code",
      "metadata": {
        "id": "K53NTJTNFNKa",
        "colab_type": "code",
        "colab": {
          "base_uri": "https://localhost:8080/",
          "height": 1000
        },
        "outputId": "6f40ca9f-add2-4a0d-f502-c9c8f47f2452"
      },
      "source": [
        "model = Sequential()\n",
        "model.add(Conv2D(32, (3, 3), activation='relu', kernel_initializer='he_uniform', padding='same', input_shape=(32, 32, 3)))\n",
        "model.add(Conv2D(32, (3, 3), activation='relu', kernel_initializer='he_uniform', padding='same'))\n",
        "model.add(MaxPooling2D((2, 2)))\n",
        "model.add(Dropout(0.25))\n",
        "model.add(Conv2D(64, (3, 3), activation='relu', kernel_initializer='he_uniform', padding='same'))\n",
        "model.add(Conv2D(64, (3, 3), activation='relu', kernel_initializer='he_uniform', padding='same'))\n",
        "model.add(MaxPooling2D((2, 2)))\n",
        "model.add(Dropout(0.25))\n",
        "model.add(Conv2D(128, (3, 3), activation='relu', kernel_initializer='he_uniform', padding='same'))\n",
        "model.add(Conv2D(128, (3, 3), activation='relu', kernel_initializer='he_uniform', padding='same'))\n",
        "model.add(MaxPooling2D((2, 2)))\n",
        "model.add(Dropout(0.25))\n",
        "model.add(Flatten())\n",
        "model.add(Dense(128, activation='relu', kernel_initializer='he_uniform'))\n",
        "model.add(Dropout(0.5))\n",
        "model.add(Dense(10, activation='softmax'))\n",
        "optimizador = optimizers.SGD(lr=0.001, momentum=0.9,nesterov=True)\n",
        "model.compile(optimizer=optimizador, loss='categorical_crossentropy', metrics=['accuracy'])\n",
        "model.fit(train_new, train_label, epochs=150,batch_size=64,verbose=1,validation_split=0.4)"
      ],
      "execution_count": 51,
      "outputs": [
        {
          "output_type": "stream",
          "text": [
            "Train on 30000 samples, validate on 20000 samples\n",
            "Epoch 1/150\n",
            "30000/30000 [==============================] - 14s 452us/step - loss: 2.2638 - acc: 0.1377 - val_loss: 2.1126 - val_acc: 0.2143\n",
            "Epoch 2/150\n",
            "30000/30000 [==============================] - 12s 412us/step - loss: 2.0419 - acc: 0.2367 - val_loss: 1.8759 - val_acc: 0.3322\n",
            "Epoch 3/150\n",
            "30000/30000 [==============================] - 12s 412us/step - loss: 1.8474 - acc: 0.3053 - val_loss: 1.7680 - val_acc: 0.3377\n",
            "Epoch 4/150\n",
            "30000/30000 [==============================] - 12s 412us/step - loss: 1.7354 - acc: 0.3530 - val_loss: 1.6216 - val_acc: 0.4072\n",
            "Epoch 5/150\n",
            "30000/30000 [==============================] - 13s 420us/step - loss: 1.6463 - acc: 0.3863 - val_loss: 1.5143 - val_acc: 0.4497\n",
            "Epoch 6/150\n",
            "30000/30000 [==============================] - 12s 412us/step - loss: 1.5883 - acc: 0.4100 - val_loss: 1.4729 - val_acc: 0.4616\n",
            "Epoch 7/150\n",
            "30000/30000 [==============================] - 12s 411us/step - loss: 1.5349 - acc: 0.4345 - val_loss: 1.4219 - val_acc: 0.4854\n",
            "Epoch 8/150\n",
            "30000/30000 [==============================] - 12s 410us/step - loss: 1.4796 - acc: 0.4538 - val_loss: 1.3936 - val_acc: 0.4995\n",
            "Epoch 9/150\n",
            "30000/30000 [==============================] - 12s 412us/step - loss: 1.4552 - acc: 0.4682 - val_loss: 1.3673 - val_acc: 0.5089\n",
            "Epoch 10/150\n",
            "30000/30000 [==============================] - 13s 418us/step - loss: 1.4148 - acc: 0.4804 - val_loss: 1.3006 - val_acc: 0.5354\n",
            "Epoch 11/150\n",
            "30000/30000 [==============================] - 12s 412us/step - loss: 1.3860 - acc: 0.4950 - val_loss: 1.2761 - val_acc: 0.5406\n",
            "Epoch 12/150\n",
            "30000/30000 [==============================] - 12s 413us/step - loss: 1.3509 - acc: 0.5106 - val_loss: 1.2284 - val_acc: 0.5596\n",
            "Epoch 13/150\n",
            "30000/30000 [==============================] - 12s 415us/step - loss: 1.3119 - acc: 0.5240 - val_loss: 1.1933 - val_acc: 0.5728\n",
            "Epoch 14/150\n",
            "30000/30000 [==============================] - 12s 412us/step - loss: 1.2864 - acc: 0.5372 - val_loss: 1.1538 - val_acc: 0.5857\n",
            "Epoch 15/150\n",
            "30000/30000 [==============================] - 12s 412us/step - loss: 1.2459 - acc: 0.5485 - val_loss: 1.1193 - val_acc: 0.5987\n",
            "Epoch 16/150\n",
            "30000/30000 [==============================] - 12s 413us/step - loss: 1.2153 - acc: 0.5653 - val_loss: 1.0919 - val_acc: 0.6109\n",
            "Epoch 17/150\n",
            "30000/30000 [==============================] - 12s 413us/step - loss: 1.1890 - acc: 0.5762 - val_loss: 1.0647 - val_acc: 0.6211\n",
            "Epoch 18/150\n",
            "30000/30000 [==============================] - 12s 413us/step - loss: 1.1564 - acc: 0.5870 - val_loss: 1.0479 - val_acc: 0.6250\n",
            "Epoch 19/150\n",
            "30000/30000 [==============================] - 12s 413us/step - loss: 1.1240 - acc: 0.5994 - val_loss: 1.0742 - val_acc: 0.6159\n",
            "Epoch 20/150\n",
            "30000/30000 [==============================] - 12s 415us/step - loss: 1.1064 - acc: 0.6091 - val_loss: 0.9861 - val_acc: 0.6518\n",
            "Epoch 21/150\n",
            "30000/30000 [==============================] - 12s 415us/step - loss: 1.0848 - acc: 0.6143 - val_loss: 1.0053 - val_acc: 0.6372\n",
            "Epoch 22/150\n",
            "30000/30000 [==============================] - 12s 414us/step - loss: 1.0614 - acc: 0.6223 - val_loss: 0.9710 - val_acc: 0.6575\n",
            "Epoch 23/150\n",
            "30000/30000 [==============================] - 12s 416us/step - loss: 1.0451 - acc: 0.6296 - val_loss: 0.9393 - val_acc: 0.6656\n",
            "Epoch 24/150\n",
            "30000/30000 [==============================] - 13s 420us/step - loss: 1.0207 - acc: 0.6410 - val_loss: 0.9029 - val_acc: 0.6825\n",
            "Epoch 25/150\n",
            "30000/30000 [==============================] - 12s 411us/step - loss: 1.0060 - acc: 0.6430 - val_loss: 0.8977 - val_acc: 0.6824\n",
            "Epoch 26/150\n",
            "30000/30000 [==============================] - 12s 412us/step - loss: 0.9878 - acc: 0.6511 - val_loss: 0.8961 - val_acc: 0.6850\n",
            "Epoch 27/150\n",
            "30000/30000 [==============================] - 12s 411us/step - loss: 0.9736 - acc: 0.6575 - val_loss: 0.8894 - val_acc: 0.6871\n",
            "Epoch 28/150\n",
            "30000/30000 [==============================] - 12s 413us/step - loss: 0.9625 - acc: 0.6578 - val_loss: 0.8820 - val_acc: 0.6905\n",
            "Epoch 29/150\n",
            "30000/30000 [==============================] - 13s 418us/step - loss: 0.9482 - acc: 0.6656 - val_loss: 0.8612 - val_acc: 0.7006\n",
            "Epoch 30/150\n",
            "30000/30000 [==============================] - 13s 418us/step - loss: 0.9323 - acc: 0.6734 - val_loss: 0.8313 - val_acc: 0.7068\n",
            "Epoch 31/150\n",
            "30000/30000 [==============================] - 12s 414us/step - loss: 0.9176 - acc: 0.6748 - val_loss: 0.8375 - val_acc: 0.7045\n",
            "Epoch 32/150\n",
            "30000/30000 [==============================] - 12s 416us/step - loss: 0.9113 - acc: 0.6801 - val_loss: 0.8387 - val_acc: 0.7053\n",
            "Epoch 33/150\n",
            "30000/30000 [==============================] - 12s 415us/step - loss: 0.8950 - acc: 0.6850 - val_loss: 0.7981 - val_acc: 0.7154\n",
            "Epoch 34/150\n",
            "30000/30000 [==============================] - 12s 411us/step - loss: 0.8950 - acc: 0.6867 - val_loss: 0.7855 - val_acc: 0.7209\n",
            "Epoch 35/150\n",
            "30000/30000 [==============================] - 12s 411us/step - loss: 0.8748 - acc: 0.6941 - val_loss: 0.8114 - val_acc: 0.7123\n",
            "Epoch 36/150\n",
            "30000/30000 [==============================] - 12s 413us/step - loss: 0.8598 - acc: 0.6977 - val_loss: 0.7732 - val_acc: 0.7269\n",
            "Epoch 37/150\n",
            "30000/30000 [==============================] - 13s 418us/step - loss: 0.8484 - acc: 0.7022 - val_loss: 0.7706 - val_acc: 0.7263\n",
            "Epoch 38/150\n",
            "30000/30000 [==============================] - 12s 413us/step - loss: 0.8453 - acc: 0.7036 - val_loss: 0.7584 - val_acc: 0.7312\n",
            "Epoch 39/150\n",
            "30000/30000 [==============================] - 12s 412us/step - loss: 0.8309 - acc: 0.7079 - val_loss: 0.7690 - val_acc: 0.7268\n",
            "Epoch 40/150\n",
            "30000/30000 [==============================] - 12s 414us/step - loss: 0.8211 - acc: 0.7084 - val_loss: 0.7660 - val_acc: 0.7312\n",
            "Epoch 41/150\n",
            "30000/30000 [==============================] - 12s 415us/step - loss: 0.8179 - acc: 0.7127 - val_loss: 0.7327 - val_acc: 0.7405\n",
            "Epoch 42/150\n",
            "30000/30000 [==============================] - 12s 417us/step - loss: 0.8051 - acc: 0.7165 - val_loss: 0.7327 - val_acc: 0.7423\n",
            "Epoch 43/150\n",
            "30000/30000 [==============================] - 12s 411us/step - loss: 0.7997 - acc: 0.7164 - val_loss: 0.7295 - val_acc: 0.7419\n",
            "Epoch 44/150\n",
            "30000/30000 [==============================] - 12s 411us/step - loss: 0.7927 - acc: 0.7203 - val_loss: 0.7276 - val_acc: 0.7401\n",
            "Epoch 45/150\n",
            "30000/30000 [==============================] - 12s 416us/step - loss: 0.7849 - acc: 0.7255 - val_loss: 0.7373 - val_acc: 0.7412\n",
            "Epoch 46/150\n",
            "30000/30000 [==============================] - 12s 411us/step - loss: 0.7745 - acc: 0.7264 - val_loss: 0.7357 - val_acc: 0.7389\n",
            "Epoch 47/150\n",
            "30000/30000 [==============================] - 12s 413us/step - loss: 0.7684 - acc: 0.7299 - val_loss: 0.7320 - val_acc: 0.7421\n",
            "Epoch 48/150\n",
            "30000/30000 [==============================] - 12s 416us/step - loss: 0.7598 - acc: 0.7329 - val_loss: 0.7145 - val_acc: 0.7510\n",
            "Epoch 49/150\n",
            "30000/30000 [==============================] - 13s 419us/step - loss: 0.7560 - acc: 0.7366 - val_loss: 0.7199 - val_acc: 0.7486\n",
            "Epoch 50/150\n",
            "30000/30000 [==============================] - 12s 416us/step - loss: 0.7477 - acc: 0.7387 - val_loss: 0.6973 - val_acc: 0.7521\n",
            "Epoch 51/150\n",
            "30000/30000 [==============================] - 12s 410us/step - loss: 0.7400 - acc: 0.7416 - val_loss: 0.6747 - val_acc: 0.7631\n",
            "Epoch 52/150\n",
            "30000/30000 [==============================] - 12s 412us/step - loss: 0.7316 - acc: 0.7403 - val_loss: 0.6964 - val_acc: 0.7546\n",
            "Epoch 53/150\n",
            "30000/30000 [==============================] - 12s 414us/step - loss: 0.7248 - acc: 0.7423 - val_loss: 0.6886 - val_acc: 0.7577\n",
            "Epoch 54/150\n",
            "30000/30000 [==============================] - 12s 417us/step - loss: 0.7173 - acc: 0.7475 - val_loss: 0.6848 - val_acc: 0.7617\n",
            "Epoch 55/150\n",
            "30000/30000 [==============================] - 12s 412us/step - loss: 0.7066 - acc: 0.7528 - val_loss: 0.6948 - val_acc: 0.7570\n",
            "Epoch 56/150\n",
            "30000/30000 [==============================] - 12s 414us/step - loss: 0.7026 - acc: 0.7547 - val_loss: 0.6706 - val_acc: 0.7669\n",
            "Epoch 57/150\n",
            "30000/30000 [==============================] - 12s 414us/step - loss: 0.6924 - acc: 0.7566 - val_loss: 0.6750 - val_acc: 0.7630\n",
            "Epoch 58/150\n",
            "30000/30000 [==============================] - 12s 416us/step - loss: 0.6939 - acc: 0.7562 - val_loss: 0.6638 - val_acc: 0.7672\n",
            "Epoch 59/150\n",
            "30000/30000 [==============================] - 12s 409us/step - loss: 0.6852 - acc: 0.7613 - val_loss: 0.6795 - val_acc: 0.7617\n",
            "Epoch 60/150\n",
            "30000/30000 [==============================] - 12s 409us/step - loss: 0.6804 - acc: 0.7620 - val_loss: 0.6684 - val_acc: 0.7634\n",
            "Epoch 61/150\n",
            "30000/30000 [==============================] - 12s 412us/step - loss: 0.6712 - acc: 0.7643 - val_loss: 0.6462 - val_acc: 0.7743\n",
            "Epoch 62/150\n",
            "30000/30000 [==============================] - 12s 412us/step - loss: 0.6713 - acc: 0.7608 - val_loss: 0.6472 - val_acc: 0.7737\n",
            "Epoch 63/150\n",
            "30000/30000 [==============================] - 12s 411us/step - loss: 0.6630 - acc: 0.7696 - val_loss: 0.6911 - val_acc: 0.7607\n",
            "Epoch 64/150\n",
            "30000/30000 [==============================] - 12s 412us/step - loss: 0.6602 - acc: 0.7694 - val_loss: 0.6649 - val_acc: 0.7670\n",
            "Epoch 65/150\n",
            "30000/30000 [==============================] - 12s 414us/step - loss: 0.6540 - acc: 0.7697 - val_loss: 0.6413 - val_acc: 0.7747\n",
            "Epoch 66/150\n",
            "30000/30000 [==============================] - 12s 415us/step - loss: 0.6453 - acc: 0.7716 - val_loss: 0.6410 - val_acc: 0.7780\n",
            "Epoch 67/150\n",
            "30000/30000 [==============================] - 12s 411us/step - loss: 0.6458 - acc: 0.7727 - val_loss: 0.6324 - val_acc: 0.7774\n",
            "Epoch 68/150\n",
            "30000/30000 [==============================] - 12s 412us/step - loss: 0.6401 - acc: 0.7739 - val_loss: 0.6568 - val_acc: 0.7742\n",
            "Epoch 69/150\n",
            "30000/30000 [==============================] - 12s 412us/step - loss: 0.6298 - acc: 0.7802 - val_loss: 0.6322 - val_acc: 0.7800\n",
            "Epoch 70/150\n",
            "30000/30000 [==============================] - 12s 412us/step - loss: 0.6288 - acc: 0.7773 - val_loss: 0.6407 - val_acc: 0.7772\n",
            "Epoch 71/150\n",
            "30000/30000 [==============================] - 12s 414us/step - loss: 0.6210 - acc: 0.7813 - val_loss: 0.6391 - val_acc: 0.7778\n",
            "Epoch 72/150\n",
            "30000/30000 [==============================] - 12s 413us/step - loss: 0.6148 - acc: 0.7846 - val_loss: 0.6691 - val_acc: 0.7703\n",
            "Epoch 73/150\n",
            "30000/30000 [==============================] - 13s 419us/step - loss: 0.6088 - acc: 0.7843 - val_loss: 0.6193 - val_acc: 0.7866\n",
            "Epoch 74/150\n",
            "30000/30000 [==============================] - 13s 420us/step - loss: 0.6082 - acc: 0.7854 - val_loss: 0.6212 - val_acc: 0.7851\n",
            "Epoch 75/150\n",
            "30000/30000 [==============================] - 12s 412us/step - loss: 0.6089 - acc: 0.7845 - val_loss: 0.6150 - val_acc: 0.7883\n",
            "Epoch 76/150\n",
            "30000/30000 [==============================] - 12s 412us/step - loss: 0.5971 - acc: 0.7913 - val_loss: 0.6365 - val_acc: 0.7806\n",
            "Epoch 77/150\n",
            "30000/30000 [==============================] - 12s 413us/step - loss: 0.5844 - acc: 0.7944 - val_loss: 0.6304 - val_acc: 0.7838\n",
            "Epoch 78/150\n",
            "30000/30000 [==============================] - 12s 413us/step - loss: 0.5958 - acc: 0.7920 - val_loss: 0.6283 - val_acc: 0.7850\n",
            "Epoch 79/150\n",
            "30000/30000 [==============================] - 12s 415us/step - loss: 0.5820 - acc: 0.7951 - val_loss: 0.6181 - val_acc: 0.7860\n",
            "Epoch 80/150\n",
            "30000/30000 [==============================] - 12s 412us/step - loss: 0.5803 - acc: 0.7969 - val_loss: 0.6223 - val_acc: 0.7827\n",
            "Epoch 81/150\n",
            "30000/30000 [==============================] - 12s 413us/step - loss: 0.5736 - acc: 0.7991 - val_loss: 0.6015 - val_acc: 0.7941\n",
            "Epoch 82/150\n",
            "30000/30000 [==============================] - 12s 411us/step - loss: 0.5699 - acc: 0.7978 - val_loss: 0.5987 - val_acc: 0.7927\n",
            "Epoch 83/150\n",
            "30000/30000 [==============================] - 12s 413us/step - loss: 0.5660 - acc: 0.7997 - val_loss: 0.6152 - val_acc: 0.7871\n",
            "Epoch 84/150\n",
            "30000/30000 [==============================] - 12s 414us/step - loss: 0.5618 - acc: 0.7989 - val_loss: 0.6192 - val_acc: 0.7859\n",
            "Epoch 85/150\n",
            "30000/30000 [==============================] - 12s 413us/step - loss: 0.5580 - acc: 0.8017 - val_loss: 0.6163 - val_acc: 0.7909\n",
            "Epoch 86/150\n",
            "30000/30000 [==============================] - 13s 418us/step - loss: 0.5492 - acc: 0.8056 - val_loss: 0.6045 - val_acc: 0.7904\n",
            "Epoch 87/150\n",
            "30000/30000 [==============================] - 12s 414us/step - loss: 0.5486 - acc: 0.8055 - val_loss: 0.6168 - val_acc: 0.7907\n",
            "Epoch 88/150\n",
            "30000/30000 [==============================] - 12s 416us/step - loss: 0.5371 - acc: 0.8084 - val_loss: 0.6239 - val_acc: 0.7870\n",
            "Epoch 89/150\n",
            "30000/30000 [==============================] - 12s 412us/step - loss: 0.5483 - acc: 0.8072 - val_loss: 0.6098 - val_acc: 0.7890\n",
            "Epoch 90/150\n",
            "30000/30000 [==============================] - 12s 413us/step - loss: 0.5401 - acc: 0.8082 - val_loss: 0.6011 - val_acc: 0.7940\n",
            "Epoch 91/150\n",
            "30000/30000 [==============================] - 12s 414us/step - loss: 0.5335 - acc: 0.8112 - val_loss: 0.6052 - val_acc: 0.7929\n",
            "Epoch 92/150\n",
            "30000/30000 [==============================] - 12s 413us/step - loss: 0.5262 - acc: 0.8145 - val_loss: 0.6137 - val_acc: 0.7914\n",
            "Epoch 93/150\n",
            "30000/30000 [==============================] - 12s 416us/step - loss: 0.5247 - acc: 0.8137 - val_loss: 0.6182 - val_acc: 0.7887\n",
            "Epoch 94/150\n",
            "30000/30000 [==============================] - 12s 415us/step - loss: 0.5234 - acc: 0.8163 - val_loss: 0.6200 - val_acc: 0.7906\n",
            "Epoch 95/150\n",
            "30000/30000 [==============================] - 12s 413us/step - loss: 0.5127 - acc: 0.8179 - val_loss: 0.6099 - val_acc: 0.7945\n",
            "Epoch 96/150\n",
            "30000/30000 [==============================] - 12s 416us/step - loss: 0.5072 - acc: 0.8197 - val_loss: 0.6111 - val_acc: 0.7945\n",
            "Epoch 97/150\n",
            "30000/30000 [==============================] - 12s 410us/step - loss: 0.5134 - acc: 0.8190 - val_loss: 0.5882 - val_acc: 0.7998\n",
            "Epoch 98/150\n",
            "30000/30000 [==============================] - 12s 414us/step - loss: 0.5007 - acc: 0.8216 - val_loss: 0.6077 - val_acc: 0.7953\n",
            "Epoch 99/150\n",
            "30000/30000 [==============================] - 13s 419us/step - loss: 0.5033 - acc: 0.8221 - val_loss: 0.6023 - val_acc: 0.7974\n",
            "Epoch 100/150\n",
            "30000/30000 [==============================] - 12s 411us/step - loss: 0.5024 - acc: 0.8206 - val_loss: 0.5827 - val_acc: 0.8024\n",
            "Epoch 101/150\n",
            "30000/30000 [==============================] - 12s 411us/step - loss: 0.4935 - acc: 0.8261 - val_loss: 0.5876 - val_acc: 0.8005\n",
            "Epoch 102/150\n",
            "30000/30000 [==============================] - 12s 413us/step - loss: 0.4908 - acc: 0.8257 - val_loss: 0.5892 - val_acc: 0.8039\n",
            "Epoch 103/150\n",
            "30000/30000 [==============================] - 13s 420us/step - loss: 0.4897 - acc: 0.8268 - val_loss: 0.5784 - val_acc: 0.8024\n",
            "Epoch 104/150\n",
            "30000/30000 [==============================] - 12s 412us/step - loss: 0.4891 - acc: 0.8251 - val_loss: 0.5947 - val_acc: 0.7981\n",
            "Epoch 105/150\n",
            "30000/30000 [==============================] - 12s 412us/step - loss: 0.4851 - acc: 0.8272 - val_loss: 0.5902 - val_acc: 0.8005\n",
            "Epoch 106/150\n",
            "30000/30000 [==============================] - 12s 410us/step - loss: 0.4757 - acc: 0.8294 - val_loss: 0.5946 - val_acc: 0.7984\n",
            "Epoch 107/150\n",
            "30000/30000 [==============================] - 12s 413us/step - loss: 0.4815 - acc: 0.8270 - val_loss: 0.6021 - val_acc: 0.7990\n",
            "Epoch 108/150\n",
            "30000/30000 [==============================] - 12s 410us/step - loss: 0.4759 - acc: 0.8316 - val_loss: 0.6137 - val_acc: 0.7987\n",
            "Epoch 109/150\n",
            "30000/30000 [==============================] - 12s 410us/step - loss: 0.4718 - acc: 0.8308 - val_loss: 0.5863 - val_acc: 0.8030\n",
            "Epoch 110/150\n",
            "30000/30000 [==============================] - 12s 410us/step - loss: 0.4643 - acc: 0.8352 - val_loss: 0.6012 - val_acc: 0.8001\n",
            "Epoch 111/150\n",
            "30000/30000 [==============================] - 12s 410us/step - loss: 0.4631 - acc: 0.8360 - val_loss: 0.5852 - val_acc: 0.8032\n",
            "Epoch 112/150\n",
            "30000/30000 [==============================] - 12s 411us/step - loss: 0.4606 - acc: 0.8342 - val_loss: 0.5754 - val_acc: 0.8065\n",
            "Epoch 113/150\n",
            "30000/30000 [==============================] - 12s 411us/step - loss: 0.4506 - acc: 0.8396 - val_loss: 0.5779 - val_acc: 0.8047\n",
            "Epoch 114/150\n",
            "30000/30000 [==============================] - 12s 411us/step - loss: 0.4560 - acc: 0.8375 - val_loss: 0.5808 - val_acc: 0.8065\n",
            "Epoch 115/150\n",
            "30000/30000 [==============================] - 12s 413us/step - loss: 0.4509 - acc: 0.8406 - val_loss: 0.5909 - val_acc: 0.8043\n",
            "Epoch 116/150\n",
            "30000/30000 [==============================] - 12s 411us/step - loss: 0.4426 - acc: 0.8407 - val_loss: 0.5701 - val_acc: 0.8081\n",
            "Epoch 117/150\n",
            "30000/30000 [==============================] - 12s 412us/step - loss: 0.4423 - acc: 0.8431 - val_loss: 0.5878 - val_acc: 0.8042\n",
            "Epoch 118/150\n",
            "30000/30000 [==============================] - 12s 412us/step - loss: 0.4401 - acc: 0.8445 - val_loss: 0.5836 - val_acc: 0.8063\n",
            "Epoch 119/150\n",
            "30000/30000 [==============================] - 12s 411us/step - loss: 0.4307 - acc: 0.8451 - val_loss: 0.5941 - val_acc: 0.8038\n",
            "Epoch 120/150\n",
            "30000/30000 [==============================] - 12s 411us/step - loss: 0.4345 - acc: 0.8452 - val_loss: 0.5755 - val_acc: 0.8073\n",
            "Epoch 121/150\n",
            "30000/30000 [==============================] - 12s 412us/step - loss: 0.4278 - acc: 0.8473 - val_loss: 0.5979 - val_acc: 0.8035\n",
            "Epoch 122/150\n",
            "30000/30000 [==============================] - 12s 406us/step - loss: 0.4279 - acc: 0.8466 - val_loss: 0.5810 - val_acc: 0.8073\n",
            "Epoch 123/150\n",
            "30000/30000 [==============================] - 12s 410us/step - loss: 0.4211 - acc: 0.8504 - val_loss: 0.5783 - val_acc: 0.8123\n",
            "Epoch 124/150\n",
            "30000/30000 [==============================] - 12s 416us/step - loss: 0.4177 - acc: 0.8502 - val_loss: 0.5875 - val_acc: 0.8066\n",
            "Epoch 125/150\n",
            "30000/30000 [==============================] - 12s 412us/step - loss: 0.4132 - acc: 0.8521 - val_loss: 0.5740 - val_acc: 0.8108\n",
            "Epoch 126/150\n",
            "30000/30000 [==============================] - 12s 412us/step - loss: 0.4109 - acc: 0.8520 - val_loss: 0.5991 - val_acc: 0.8031\n",
            "Epoch 127/150\n",
            "30000/30000 [==============================] - 12s 412us/step - loss: 0.4130 - acc: 0.8519 - val_loss: 0.5901 - val_acc: 0.8096\n",
            "Epoch 128/150\n",
            "30000/30000 [==============================] - 12s 415us/step - loss: 0.4130 - acc: 0.8494 - val_loss: 0.5854 - val_acc: 0.8098\n",
            "Epoch 129/150\n",
            "30000/30000 [==============================] - 12s 413us/step - loss: 0.4036 - acc: 0.8576 - val_loss: 0.5735 - val_acc: 0.8113\n",
            "Epoch 130/150\n",
            "30000/30000 [==============================] - 12s 411us/step - loss: 0.4092 - acc: 0.8543 - val_loss: 0.5848 - val_acc: 0.8101\n",
            "Epoch 131/150\n",
            "30000/30000 [==============================] - 12s 411us/step - loss: 0.4045 - acc: 0.8540 - val_loss: 0.5938 - val_acc: 0.8044\n",
            "Epoch 132/150\n",
            "30000/30000 [==============================] - 12s 409us/step - loss: 0.3972 - acc: 0.8581 - val_loss: 0.5747 - val_acc: 0.8138\n",
            "Epoch 133/150\n",
            "30000/30000 [==============================] - 12s 410us/step - loss: 0.3955 - acc: 0.8565 - val_loss: 0.5785 - val_acc: 0.8105\n",
            "Epoch 134/150\n",
            "30000/30000 [==============================] - 12s 408us/step - loss: 0.3919 - acc: 0.8600 - val_loss: 0.5719 - val_acc: 0.8139\n",
            "Epoch 135/150\n",
            "30000/30000 [==============================] - 12s 411us/step - loss: 0.3906 - acc: 0.8607 - val_loss: 0.5767 - val_acc: 0.8162\n",
            "Epoch 136/150\n",
            "30000/30000 [==============================] - 12s 411us/step - loss: 0.3926 - acc: 0.8591 - val_loss: 0.5943 - val_acc: 0.8095\n",
            "Epoch 137/150\n",
            "30000/30000 [==============================] - 12s 411us/step - loss: 0.3832 - acc: 0.8623 - val_loss: 0.6022 - val_acc: 0.8069\n",
            "Epoch 138/150\n",
            "30000/30000 [==============================] - 12s 412us/step - loss: 0.3808 - acc: 0.8616 - val_loss: 0.5850 - val_acc: 0.8117\n",
            "Epoch 139/150\n",
            "30000/30000 [==============================] - 12s 410us/step - loss: 0.3760 - acc: 0.8654 - val_loss: 0.5977 - val_acc: 0.8090\n",
            "Epoch 140/150\n",
            "30000/30000 [==============================] - 12s 411us/step - loss: 0.3757 - acc: 0.8629 - val_loss: 0.5967 - val_acc: 0.8115\n",
            "Epoch 141/150\n",
            "30000/30000 [==============================] - 12s 410us/step - loss: 0.3738 - acc: 0.8636 - val_loss: 0.5690 - val_acc: 0.8164\n",
            "Epoch 142/150\n",
            "30000/30000 [==============================] - 12s 411us/step - loss: 0.3688 - acc: 0.8682 - val_loss: 0.5802 - val_acc: 0.8144\n",
            "Epoch 143/150\n",
            "30000/30000 [==============================] - 12s 408us/step - loss: 0.3737 - acc: 0.8668 - val_loss: 0.5795 - val_acc: 0.8135\n",
            "Epoch 144/150\n",
            "30000/30000 [==============================] - 12s 412us/step - loss: 0.3675 - acc: 0.8684 - val_loss: 0.5840 - val_acc: 0.8143\n",
            "Epoch 145/150\n",
            "30000/30000 [==============================] - 12s 411us/step - loss: 0.3672 - acc: 0.8677 - val_loss: 0.5772 - val_acc: 0.8150\n",
            "Epoch 146/150\n",
            "30000/30000 [==============================] - 12s 412us/step - loss: 0.3640 - acc: 0.8690 - val_loss: 0.5854 - val_acc: 0.8163\n",
            "Epoch 147/150\n",
            "30000/30000 [==============================] - 12s 410us/step - loss: 0.3574 - acc: 0.8714 - val_loss: 0.5815 - val_acc: 0.8169\n",
            "Epoch 148/150\n",
            "30000/30000 [==============================] - 12s 414us/step - loss: 0.3639 - acc: 0.8678 - val_loss: 0.5957 - val_acc: 0.8101\n",
            "Epoch 149/150\n",
            "30000/30000 [==============================] - 13s 419us/step - loss: 0.3603 - acc: 0.8679 - val_loss: 0.5904 - val_acc: 0.8136\n",
            "Epoch 150/150\n",
            "30000/30000 [==============================] - 12s 411us/step - loss: 0.3516 - acc: 0.8742 - val_loss: 0.5958 - val_acc: 0.8125\n"
          ],
          "name": "stdout"
        },
        {
          "output_type": "execute_result",
          "data": {
            "text/plain": [
              "<keras.callbacks.History at 0x7f377db72eb8>"
            ]
          },
          "metadata": {
            "tags": []
          },
          "execution_count": 51
        }
      ]
    },
    {
      "cell_type": "markdown",
      "metadata": {
        "id": "1cEI8PwpepSg",
        "colab_type": "text"
      },
      "source": [
        "Gráficas de algunos filtros (canales)"
      ]
    },
    {
      "cell_type": "code",
      "metadata": {
        "id": "gshIi3rUFRLN",
        "colab_type": "code",
        "colab": {
          "base_uri": "https://localhost:8080/",
          "height": 152
        },
        "outputId": "2efe0cd8-9130-4559-d243-66e541d4be95"
      },
      "source": [
        "img1 = model.layers[4].get_weights()[0][:,:,:,:]\n",
        "plt.matshow(img1[0,:,:,5], cmap='viridis')"
      ],
      "execution_count": 56,
      "outputs": [
        {
          "output_type": "execute_result",
          "data": {
            "text/plain": [
              "<matplotlib.image.AxesImage at 0x7f377d930128>"
            ]
          },
          "metadata": {
            "tags": []
          },
          "execution_count": 56
        },
        {
          "output_type": "display_data",
          "data": {
            "image/png": "[encoded data removed]",
            "text/plain": [
              "<Figure size 1152x144 with 1 Axes>"
            ]
          },
          "metadata": {
            "tags": []
          }
        }
      ]
    },
    {
      "cell_type": "code",
      "metadata": {
        "id": "Gs6tum1aS_-C",
        "colab_type": "code",
        "colab": {
          "base_uri": "https://localhost:8080/",
          "height": 152
        },
        "outputId": "257b0c9e-b714-44f2-b4bd-70cca349f610"
      },
      "source": [
        "img2 = model.layers[1].get_weights()[0][:,:,:,:]\n",
        "plt.matshow(img1[0,:,:,4], cmap='viridis')"
      ],
      "execution_count": 57,
      "outputs": [
        {
          "output_type": "execute_result",
          "data": {
            "text/plain": [
              "<matplotlib.image.AxesImage at 0x7f377d8fda58>"
            ]
          },
          "metadata": {
            "tags": []
          },
          "execution_count": 57
        },
        {
          "output_type": "display_data",
          "data": {
            "image/png": "[encoded data removed]",
            "text/plain": [
              "<Figure size 1152x144 with 1 Axes>"
            ]
          },
          "metadata": {
            "tags": []
          }
        }
      ]
    }
  ]
}